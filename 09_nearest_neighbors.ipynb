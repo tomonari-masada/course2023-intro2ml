{
  "nbformat": 4,
  "nbformat_minor": 0,
  "metadata": {
    "colab": {
      "provenance": [],
      "authorship_tag": "ABX9TyNBjgT+XMwchJYEwmv2jBtG",
      "include_colab_link": true
    },
    "kernelspec": {
      "name": "python3",
      "display_name": "Python 3"
    },
    "language_info": {
      "name": "python"
    }
  },
  "cells": [
    {
      "cell_type": "markdown",
      "metadata": {
        "id": "view-in-github",
        "colab_type": "text"
      },
      "source": [
        "<a href=\"https://colab.research.google.com/github/tomonari-masada/course2023-intro2ml/blob/main/09_nearest_neighbors.ipynb\" target=\"_parent\"><img src=\"https://colab.research.google.com/assets/colab-badge.svg\" alt=\"Open In Colab\"/></a>"
      ]
    },
    {
      "cell_type": "markdown",
      "metadata": {
        "id": "CASxYD_RQQom"
      },
      "source": [
        "# k-最近傍法 (k-nearest neighbors)\n",
        "* k-近傍法とも呼ばれる\n",
        "* データの分類に使える手法のひとつ\n",
        "* モデルを使わない手法！（個々のデータをそのまま使う）\n",
        "\n",
        " * 利点：簡単\n",
        " * 欠点：すべてのデータとの類似度を計算する必要がある（計算量大）"
      ]
    },
    {
      "cell_type": "markdown",
      "metadata": {
        "id": "rPhWb6J9QltB"
      },
      "source": [
        "## アルゴリズム\n",
        "* ラベルを予測したいデータと最も類似したk個の訓練データを求める\n",
        "* そのk個で多数決を採り、最多数のラベルを答えにする"
      ]
    },
    {
      "cell_type": "markdown",
      "metadata": {
        "id": "fOYHXtrmRM6X"
      },
      "source": [
        "## データセットの読み込み"
      ]
    },
    {
      "cell_type": "markdown",
      "metadata": {
        "id": "Ut3TqRUZRXwU"
      },
      "source": [
        "* データセットを読み込むための関数をインポート"
      ]
    },
    {
      "cell_type": "code",
      "metadata": {
        "id": "RVQcrlZiQICo"
      },
      "source": [
        "from sklearn.datasets import load_digits"
      ],
      "execution_count": null,
      "outputs": []
    },
    {
      "cell_type": "markdown",
      "metadata": {
        "id": "MldQhd9kRaQd"
      },
      "source": [
        "* digitsデータセットの読み込み"
      ]
    },
    {
      "cell_type": "code",
      "metadata": {
        "id": "xf5XJ6f7QQEy"
      },
      "source": [
        "digits = load_digits()"
      ],
      "execution_count": null,
      "outputs": []
    },
    {
      "cell_type": "markdown",
      "metadata": {
        "id": "H7yqLsmIRcVg"
      },
      "source": [
        "* 数字画像を可視化するための準備"
      ]
    },
    {
      "cell_type": "code",
      "metadata": {
        "id": "hKUbs1svQwBW"
      },
      "source": [
        "import matplotlib.pyplot as plt\n",
        "\n",
        "%config InlineBackend.figure_format = 'retina'"
      ],
      "execution_count": null,
      "outputs": []
    },
    {
      "cell_type": "markdown",
      "metadata": {
        "id": "NQTZXE9rRgl9"
      },
      "source": [
        "* インデックスが100の数字画像を可視化"
      ]
    },
    {
      "cell_type": "code",
      "metadata": {
        "id": "QD_7gk7KQyDG"
      },
      "source": [
        "idx = 100\n",
        "plt.imshow(digits.data[idx].reshape(8,8))\n",
        "plt.title(f'class {digits.target[idx]}')\n",
        "plt.show()"
      ],
      "execution_count": null,
      "outputs": []
    },
    {
      "cell_type": "markdown",
      "metadata": {
        "id": "ytnpD3ygRtht"
      },
      "source": [
        "## 訓練データ/検証データ/テストデータに分割"
      ]
    },
    {
      "cell_type": "markdown",
      "metadata": {
        "id": "GhU1Vm4eRwwb"
      },
      "source": [
        "* 訓練データ\n",
        " * 正解（＝目的変数の値）が分かっているとしてよいデータ\n",
        " * 入力である説明変数の値と、出力である目的変数の値とのペアを使って、モデルの学習を行う\n",
        "* 検証データ\n",
        " * ハイパーパラメータを調整するために使うデータ\n",
        "  * ハイパーパラメータ：人間が手動で調整しないといけないパラメータ\n",
        " * 正解が分かっているとしてよいが、モデルの学習には使わない\n",
        " * 予測と正解をつきあわせて性能を評価するためにだけ、正解を使う\n",
        " * 最も良い性能を出すハイパーパラメータの値を探る\n",
        "* テストデータ\n",
        " * 正解を予測するために使うデータ\n",
        " * テストデータでの評価は最終的な評価\n",
        " * この評価結果を見てハイパーパラメータを変えてはいけない！\n"
      ]
    },
    {
      "cell_type": "code",
      "metadata": {
        "id": "YaWhYawkRwSz"
      },
      "source": [
        "from sklearn.model_selection import train_test_split\n",
        "\n",
        "X_train, X_test, y_train, y_test = train_test_split(digits.data,\n",
        "                                                    digits.target, test_size=0.2,\n",
        "                                                    random_state=42)\n",
        "\n",
        "X_train, X_valid, y_train, y_valid = train_test_split(X_train, y_train,\n",
        "                                                      test_size=0.25,\n",
        "                                                      random_state=42)\n",
        "\n",
        "print(X_train.shape, X_valid.shape, X_test.shape)"
      ],
      "execution_count": null,
      "outputs": []
    },
    {
      "cell_type": "markdown",
      "metadata": {
        "id": "E_vkbz-VRmL2"
      },
      "source": [
        "## 演習\n",
        "\n",
        "* 添え字0の検証データと添え字0の訓練データのユークリッド距離を求めよう。\n",
        "\n",
        "* 添え字0の検証データと添え字1の訓練データのユークリッド距離を求めよう。\n",
        "\n",
        "* どちらのユークリッド距離のほうが小さいか？\n"
      ]
    },
    {
      "cell_type": "code",
      "metadata": {
        "id": "7Qzy3wwMSAUp"
      },
      "source": [
        "import numpy as np"
      ],
      "execution_count": null,
      "outputs": []
    },
    {
      "cell_type": "code",
      "metadata": {
        "id": "GLLhxzeXSFKi"
      },
      "source": [
        "print(np.linalg.norm(X_valid[0] - X_train[0]))"
      ],
      "execution_count": null,
      "outputs": []
    },
    {
      "cell_type": "code",
      "metadata": {
        "id": "I3dz7TafSidr"
      },
      "source": [
        "print(np.linalg.norm(X_valid[0] - X_train[1]))"
      ],
      "execution_count": null,
      "outputs": []
    },
    {
      "cell_type": "code",
      "metadata": {
        "id": "0PK-vON4Sjuh"
      },
      "source": [
        "fig = plt.figure(figsize=(4, 4))\n",
        "plt.imshow(X_valid[0].reshape(8, 8))\n",
        "plt.show()"
      ],
      "execution_count": null,
      "outputs": []
    },
    {
      "cell_type": "code",
      "metadata": {
        "id": "RX2xuIaDSuKw"
      },
      "source": [
        "fig = plt.figure(figsize=(8, 4))\n",
        "fig.add_subplot(1, 2, 1)\n",
        "plt.imshow(X_train[0].reshape(8, 8))\n",
        "fig.add_subplot(1, 2, 2)\n",
        "plt.imshow(X_train[1].reshape(8, 8))\n",
        "plt.show()"
      ],
      "execution_count": null,
      "outputs": []
    },
    {
      "cell_type": "markdown",
      "metadata": {
        "id": "TEBV6mYSWngx"
      },
      "source": [
        "## k-最近傍法をscikit-learnを使って実装する"
      ]
    },
    {
      "cell_type": "markdown",
      "metadata": {
        "id": "vj6bXzeu7JlR"
      },
      "source": [
        "* 分類器を準備する\n",
        " * ここでは最も近いもの3個を使って予測をするという設定。"
      ]
    },
    {
      "cell_type": "code",
      "metadata": {
        "id": "aJWJDfSZWsSQ"
      },
      "source": [
        "from sklearn.neighbors import KNeighborsClassifier\n",
        "neigh = KNeighborsClassifier(n_neighbors=3)"
      ],
      "execution_count": null,
      "outputs": []
    },
    {
      "cell_type": "markdown",
      "metadata": {
        "id": "SSb5f87V7EwE"
      },
      "source": [
        "* 分類器に訓練データを渡す。"
      ]
    },
    {
      "cell_type": "code",
      "metadata": {
        "id": "eOHpBFwUWzJA"
      },
      "source": [
        "neigh.fit(X_train, y_train)"
      ],
      "execution_count": null,
      "outputs": []
    },
    {
      "cell_type": "markdown",
      "metadata": {
        "id": "o9Zb8mPa7TCU"
      },
      "source": [
        "* 検証データについてクラスラベルを予測する。"
      ]
    },
    {
      "cell_type": "code",
      "metadata": {
        "id": "hd4xJcaQW3m_"
      },
      "source": [
        "neigh.predict(X_valid)"
      ],
      "execution_count": null,
      "outputs": []
    },
    {
      "cell_type": "markdown",
      "metadata": {
        "id": "69qHPfok7YqT"
      },
      "source": [
        "* 正解ラベルを見てみる。"
      ]
    },
    {
      "cell_type": "code",
      "metadata": {
        "id": "bPLVQunUXK67"
      },
      "source": [
        "y_valid"
      ],
      "execution_count": null,
      "outputs": []
    },
    {
      "cell_type": "markdown",
      "metadata": {
        "id": "PZL9hG0M7b25"
      },
      "source": [
        "* 正解率を調べる。\n",
        " * `score`メソッドを使えばすぐ求まる。"
      ]
    },
    {
      "cell_type": "code",
      "metadata": {
        "id": "6e2ZGKuMXN2k"
      },
      "source": [
        "neigh.score(X_valid, y_valid)"
      ],
      "execution_count": null,
      "outputs": []
    },
    {
      "cell_type": "markdown",
      "metadata": {
        "id": "sBqYYxdO8dRt"
      },
      "source": [
        "# 課題７\n",
        "* digitsデータセットに関して、検証データでの正解率を最も良くするkの値を探してください。\n",
        "* そして、そのkの値を使うと、テストデータでの正解率がいくらになるか、調べてください。"
      ]
    },
    {
      "cell_type": "code",
      "metadata": {
        "id": "i54OnXxL8jsK"
      },
      "source": [],
      "execution_count": null,
      "outputs": []
    },
    {
      "cell_type": "markdown",
      "source": [
        "\n",
        "\n",
        "---\n",
        "\n",
        "\n",
        "\n",
        "---\n",
        "\n"
      ],
      "metadata": {
        "id": "jVe8LIj7t8wT"
      }
    },
    {
      "cell_type": "markdown",
      "metadata": {
        "id": "_qAZqBtVWX1R"
      },
      "source": [
        "# MNISTデータセットを使う場合\n",
        "* もしMNISTデータセットで同様の実験をしたい場合は・・・\n",
        "* 下記の手順に沿ってデータセットを用意してください。"
      ]
    },
    {
      "cell_type": "code",
      "metadata": {
        "id": "snJtwK00U_xB"
      },
      "source": [
        "from sklearn.datasets import fetch_openml"
      ],
      "execution_count": null,
      "outputs": []
    },
    {
      "cell_type": "code",
      "metadata": {
        "id": "Hiclt5ENVe0A"
      },
      "source": [
        "mnist = fetch_openml('mnist_784')"
      ],
      "execution_count": null,
      "outputs": []
    },
    {
      "cell_type": "code",
      "metadata": {
        "id": "H-gj-binVgPk"
      },
      "source": [
        "X, y = mnist.data, mnist.target\n",
        "print(X.shape)\n",
        "print(y.shape)"
      ],
      "execution_count": null,
      "outputs": []
    },
    {
      "cell_type": "markdown",
      "metadata": {
        "id": "o1hbLSnIWKJy"
      },
      "source": [
        "* 普通は最後の10,000件をテストデータにする。"
      ]
    },
    {
      "cell_type": "code",
      "metadata": {
        "id": "92PIPmkMWC-T"
      },
      "source": [
        "X_train, X_test = X[:60000], X[60000:]\n",
        "y_train, y_test = y[:60000], y[60000:]"
      ],
      "execution_count": null,
      "outputs": []
    },
    {
      "cell_type": "markdown",
      "metadata": {
        "id": "njESjEqpWRVa"
      },
      "source": [
        "* 最初の100個を可視化"
      ]
    },
    {
      "cell_type": "code",
      "metadata": {
        "id": "_C55ysLDVoaa"
      },
      "source": [
        "fig, axes = plt.subplots(10, 10)\n",
        "for x, ax in zip(X_train, axes.ravel()):\n",
        "  ax.axis('off') # 軸を消す\n",
        "  ax.matshow(x.reshape(28, 28), cmap=plt.cm.gray)\n",
        "plt.show()"
      ],
      "execution_count": null,
      "outputs": []
    },
    {
      "cell_type": "markdown",
      "metadata": {
        "id": "NPqrKnwb72Pw"
      },
      "source": [
        "* 訓練データの部分を、さらに訓練データ/検証データへと分割\n",
        " * ここのやり方は自由で良いです。\n",
        " * 普通は、検証データを5000~10000件ぐらいに設定します。"
      ]
    },
    {
      "cell_type": "code",
      "metadata": {
        "id": "QDQlwWktV3lJ"
      },
      "source": [
        "X_train, X_valid, y_train, y_valid = train_test_split(X_train, y_train,\n",
        "                                                      test_size=10000,\n",
        "                                                      random_state=42)"
      ],
      "execution_count": null,
      "outputs": []
    },
    {
      "cell_type": "code",
      "metadata": {
        "id": "a15xQSux8VNh"
      },
      "source": [
        "print(X_train.shape, X_valid.shape)"
      ],
      "execution_count": null,
      "outputs": []
    },
    {
      "cell_type": "code",
      "metadata": {
        "id": "PezTe4C28YQj"
      },
      "source": [],
      "execution_count": null,
      "outputs": []
    }
  ]
}