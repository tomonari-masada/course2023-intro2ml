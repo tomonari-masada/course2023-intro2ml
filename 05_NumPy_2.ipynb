{
  "nbformat": 4,
  "nbformat_minor": 0,
  "metadata": {
    "colab": {
      "provenance": [],
      "authorship_tag": "ABX9TyMW/AahMxTViyD7l5I5uxb+",
      "include_colab_link": true
    },
    "kernelspec": {
      "name": "python3",
      "display_name": "Python 3"
    },
    "language_info": {
      "name": "python"
    }
  },
  "cells": [
    {
      "cell_type": "markdown",
      "metadata": {
        "id": "view-in-github",
        "colab_type": "text"
      },
      "source": [
        "<a href=\"https://colab.research.google.com/github/tomonari-masada/course2023-intro2ml/blob/main/05_NumPy_2.ipynb\" target=\"_parent\"><img src=\"https://colab.research.google.com/assets/colab-badge.svg\" alt=\"Open In Colab\"/></a>"
      ]
    },
    {
      "cell_type": "markdown",
      "metadata": {
        "id": "-JELfuI1U6jb"
      },
      "source": [
        "# NumPyライブラリの説明の続き"
      ]
    },
    {
      "cell_type": "markdown",
      "metadata": {
        "id": "QMnUo1jwUjLm"
      },
      "source": [
        "* NumPyのインポート"
      ]
    },
    {
      "cell_type": "code",
      "metadata": {
        "id": "zDr4hOIxTQ5K"
      },
      "source": [
        "import numpy as np"
      ],
      "execution_count": null,
      "outputs": []
    },
    {
      "cell_type": "markdown",
      "metadata": {
        "id": "GvBF8AdGU-y0"
      },
      "source": [
        "## ブロードキャスト"
      ]
    },
    {
      "cell_type": "markdown",
      "metadata": {
        "id": "p0Wjfyk-UmIK"
      },
      "source": [
        "* 同じことを3通りの方法で実施\n",
        " * 一番最後の方法がベスト"
      ]
    },
    {
      "cell_type": "code",
      "metadata": {
        "id": "A7gB5WPtTWaP"
      },
      "source": [
        "x = np.array([[1,2,3], [4,5,6], [7,8,9], [10,11,12]])\n",
        "v = np.array([1,0,1])\n",
        "y = np.empty_like(x)\n",
        "for i in range(4):\n",
        "  y[i, :] = x[i, :] + v\n",
        "print(y)"
      ],
      "execution_count": null,
      "outputs": []
    },
    {
      "cell_type": "code",
      "metadata": {
        "id": "sRb2lkqLTagU"
      },
      "source": [
        "x = np.array([[1,2,3], [4,5,6], [7,8,9], [10,11,12]])\n",
        "v = np.array([1,0,1])\n",
        "vv = np.tile(v, (4, 1))\n",
        "print(vv)\n",
        "y = x + vv\n",
        "print(y)"
      ],
      "execution_count": null,
      "outputs": []
    },
    {
      "cell_type": "code",
      "metadata": {
        "id": "QKHcABeETgRa"
      },
      "source": [
        "x = np.array([[1,2,3], [4,5,6], [7,8,9], [10,11,12]])\n",
        "v = np.array([1,0,1])\n",
        "y = x + v\n",
        "print(y)"
      ],
      "execution_count": null,
      "outputs": []
    },
    {
      "cell_type": "markdown",
      "metadata": {
        "id": "FhhZeq62UtJ_"
      },
      "source": [
        "* ブロードキャスト"
      ]
    },
    {
      "cell_type": "code",
      "metadata": {
        "id": "MEjYnIiQTibL"
      },
      "source": [
        "print(np.array([[1, 2, 3]]) + [1])"
      ],
      "execution_count": null,
      "outputs": []
    },
    {
      "cell_type": "code",
      "metadata": {
        "id": "H1A_8Z14Tm7T"
      },
      "source": [
        "a = np.array([[1, 2]])\n",
        "print(a.shape)\n",
        "b = np.array([3, 4])\n",
        "print(b.shape)\n",
        "c = a + b\n",
        "print(c)\n",
        "print(c.shape)"
      ],
      "execution_count": null,
      "outputs": []
    },
    {
      "cell_type": "code",
      "metadata": {
        "id": "0uN85mQ4TpDb"
      },
      "source": [
        "a = np.array([1,2])\n",
        "print(a.shape)\n",
        "b = np.array([[3,4],[2,3]])\n",
        "print(b.shape)\n",
        "c = a + b\n",
        "print(c.shape)\n",
        "print(c)"
      ],
      "execution_count": null,
      "outputs": []
    },
    {
      "cell_type": "code",
      "metadata": {
        "id": "dswVrLNITrUa"
      },
      "source": [
        "a = np.array([[1],[2],[3]])\n",
        "print(a.shape)\n",
        "b = np.array([[4,8],[5,10],[6,12]])\n",
        "print(b.shape)\n",
        "c = a + b\n",
        "print(c.shape)\n",
        "print(c)"
      ],
      "execution_count": null,
      "outputs": []
    },
    {
      "cell_type": "code",
      "metadata": {
        "id": "hgDxjE0zTtGy"
      },
      "source": [
        "a = np.array([1,2])\n",
        "print(a.shape)\n",
        "b = np.array([[3],[4]])\n",
        "print(b.shape)\n",
        "c = a * b\n",
        "print(c.shape)\n",
        "print(c) # 出力がなぜそうなるか説明してみよう"
      ],
      "execution_count": null,
      "outputs": []
    },
    {
      "cell_type": "markdown",
      "metadata": {
        "id": "ayhSwjLLVCdT"
      },
      "source": [
        "## 数学的なデータの処理"
      ]
    },
    {
      "cell_type": "markdown",
      "metadata": {
        "id": "Dcp_87QpUxhz"
      },
      "source": [
        "* 様々な関数"
      ]
    },
    {
      "cell_type": "code",
      "metadata": {
        "id": "UIMuD4F4TvUK"
      },
      "source": [
        "print(np.power(2, 3))\n",
        "print(np.power(2.1, 2.8))"
      ],
      "execution_count": null,
      "outputs": []
    },
    {
      "cell_type": "code",
      "metadata": {
        "id": "QGFt8miXTxTq"
      },
      "source": [
        "a = np.arange(1, 11)\n",
        "print(np.sqrt(a))\n",
        "print(np.arctan(a))"
      ],
      "execution_count": null,
      "outputs": []
    },
    {
      "cell_type": "code",
      "metadata": {
        "id": "TdsUiqKhTzz6"
      },
      "source": [
        "x = np.linspace(-1, 1, 11)\n",
        "print(np.exp(x))"
      ],
      "execution_count": null,
      "outputs": []
    },
    {
      "cell_type": "markdown",
      "metadata": {
        "id": "q1YDlhq5U0ni"
      },
      "source": [
        "* 記述統計"
      ]
    },
    {
      "cell_type": "code",
      "metadata": {
        "id": "51XITKPPT1g6"
      },
      "source": [
        "x = np.random.randn(3, 10)\n",
        "print(x)\n",
        "x = x * 3 + 5\n",
        "print(np.mean(x))\n",
        "print(np.mean(x, axis=0))\n",
        "print(np.mean(x, axis=1))\n",
        "print(np.median(x), np.var(x), np.std(x))"
      ],
      "execution_count": null,
      "outputs": []
    },
    {
      "cell_type": "code",
      "metadata": {
        "id": "NdATV-KJT4pi"
      },
      "source": [
        "x = np.random.randn(2, 100)\n",
        "print(x)\n",
        "print(np.cov(x[0], x[1]))\n",
        "print(np.corrcoef(x[0], x[1]))"
      ],
      "execution_count": null,
      "outputs": []
    },
    {
      "cell_type": "markdown",
      "metadata": {
        "id": "gjcGEi33U3Sx"
      },
      "source": [
        "# 練習\n",
        "* 以下のセルを実行して、なぜ出力がそのようになるのか、説明してみよう。"
      ]
    },
    {
      "cell_type": "markdown",
      "metadata": {
        "id": "1x2hf975VVSO"
      },
      "source": [
        "## 行列やベクトルの様々な作り方"
      ]
    },
    {
      "cell_type": "code",
      "metadata": {
        "id": "6h8n7denT60B"
      },
      "source": [
        "x = np.zeros(10)\n",
        "print(x)"
      ],
      "execution_count": null,
      "outputs": []
    },
    {
      "cell_type": "code",
      "metadata": {
        "id": "JP7KvfXgT805"
      },
      "source": [
        "x = np.arange(10,50)\n",
        "print(x)"
      ],
      "execution_count": null,
      "outputs": []
    },
    {
      "cell_type": "code",
      "metadata": {
        "id": "CWkOpJN3T-oh"
      },
      "source": [
        "x = np.arange(50)\n",
        "x = x[::-1]\n",
        "print(x)"
      ],
      "execution_count": null,
      "outputs": []
    },
    {
      "cell_type": "code",
      "metadata": {
        "id": "XW_itKDoUAaR"
      },
      "source": [
        "Z = np.arange(9).reshape(3,3)\n",
        "print(Z)"
      ],
      "execution_count": null,
      "outputs": []
    },
    {
      "cell_type": "code",
      "metadata": {
        "id": "gz_x2lhMUCXR"
      },
      "source": [
        "x = np.array([1,2,0,0,4,0])\n",
        "nz = np.nonzero(x)\n",
        "print(nz)\n",
        "print(x[nz])"
      ],
      "execution_count": null,
      "outputs": []
    },
    {
      "cell_type": "code",
      "metadata": {
        "id": "9QjHhH6CUEcB"
      },
      "source": [
        "Z = np.eye(3)\n",
        "print(Z)"
      ],
      "execution_count": null,
      "outputs": []
    },
    {
      "cell_type": "code",
      "metadata": {
        "id": "WaNajFLrUJ-4"
      },
      "source": [
        "Z = np.eye(3)\n",
        "nz = np.nonzero(Z)\n",
        "print(nz)\n",
        "print(Z[nz])"
      ],
      "execution_count": null,
      "outputs": []
    },
    {
      "cell_type": "code",
      "metadata": {
        "id": "u5aXS9dqUL2w"
      },
      "source": [
        "Z = np.random.random((10,10))\n",
        "Zmin, Zmax = Z.min(), Z.max()\n",
        "print(Zmin, Zmax)"
      ],
      "execution_count": null,
      "outputs": []
    },
    {
      "cell_type": "code",
      "metadata": {
        "id": "yZQ6HZN2UOAI"
      },
      "source": [
        "x = np.random.random(30)\n",
        "m = x.mean()\n",
        "print(m)"
      ],
      "execution_count": null,
      "outputs": []
    },
    {
      "cell_type": "markdown",
      "metadata": {
        "id": "xSwg800XVdFn"
      },
      "source": [
        "* NaN\n",
        " * NaNとはnot a numberで、非数"
      ]
    },
    {
      "cell_type": "code",
      "metadata": {
        "id": "zWajtWIbWInq"
      },
      "source": [
        "print(0.0 / np.ones(5))"
      ],
      "execution_count": null,
      "outputs": []
    },
    {
      "cell_type": "code",
      "metadata": {
        "id": "Guzy2lDWWD8p"
      },
      "source": [
        "print(0.0 / np.zeros(5))"
      ],
      "execution_count": null,
      "outputs": []
    },
    {
      "cell_type": "code",
      "metadata": {
        "id": "QYSZ4b9gUPhI"
      },
      "source": [
        "print(0 * np.nan)\n",
        "print(np.nan == np.nan)\n",
        "print(np.inf > np.nan)\n",
        "print(np.nan - np.nan)"
      ],
      "execution_count": null,
      "outputs": []
    },
    {
      "cell_type": "markdown",
      "metadata": {
        "id": "Aj2qI38BUZbM"
      },
      "source": [
        "* float形の値の比較（要注意！）"
      ]
    },
    {
      "cell_type": "code",
      "metadata": {
        "id": "1N382EPlURSI"
      },
      "source": [
        "print(0.3 == 3 * 0.1)\n",
        "print(0.3 == 2 * 0.15)"
      ],
      "execution_count": null,
      "outputs": []
    },
    {
      "cell_type": "markdown",
      "metadata": {
        "id": "HHud44U2Ub0f"
      },
      "source": [
        "* 計算機は実数を完全に厳密には表現できない"
      ]
    },
    {
      "cell_type": "code",
      "metadata": {
        "id": "hLyr3sDnUTBg"
      },
      "source": [
        "a = np.array([0.3])\n",
        "b = np.array([3 * 0.1])\n",
        "print(a - b)\n",
        "b = np.array([2 * 0.15])\n",
        "print(a - b)"
      ],
      "execution_count": null,
      "outputs": []
    },
    {
      "cell_type": "markdown",
      "metadata": {
        "id": "72l2x6pVVRN7"
      },
      "source": [
        "* 市松模様を作る"
      ]
    },
    {
      "cell_type": "code",
      "metadata": {
        "id": "CqTPYwU4UVLP"
      },
      "source": [
        "Z = np.zeros((8,8),dtype=int)\n",
        "Z[1::2,::2] = 1\n",
        "Z[::2,1::2] = 1\n",
        "print(Z)"
      ],
      "execution_count": null,
      "outputs": []
    },
    {
      "cell_type": "code",
      "metadata": {
        "id": "-eESoCRPVOnE"
      },
      "source": [
        "Z = np.tile(np.array([[0,1],[1,0]]), (4,4))\n",
        "print(Z)"
      ],
      "execution_count": null,
      "outputs": []
    },
    {
      "cell_type": "code",
      "metadata": {
        "id": "-_KuXTXFVQZr"
      },
      "source": [
        "Z = np.dot(np.ones((5,3)), np.ones((3,2)))\n",
        "print(Z)"
      ],
      "execution_count": null,
      "outputs": []
    },
    {
      "cell_type": "markdown",
      "metadata": {
        "id": "crBrbUxkWXaY"
      },
      "source": [
        "* 総和"
      ]
    },
    {
      "cell_type": "code",
      "metadata": {
        "id": "c-RTOPJVWTGT"
      },
      "source": [
        "Z = np.arange(10)\n",
        "np.sum(Z)"
      ],
      "execution_count": null,
      "outputs": []
    },
    {
      "cell_type": "code",
      "metadata": {
        "id": "I4Us8JNJWU-O"
      },
      "source": [
        "Z = np.arange(10)\n",
        "np.add.reduce(Z)"
      ],
      "execution_count": null,
      "outputs": []
    },
    {
      "cell_type": "code",
      "metadata": {
        "id": "8DRC-hOPWWle"
      },
      "source": [
        "Z = np.arange(11)\n",
        "Z[(3 < Z) & (Z <= 8)] *= -1\n",
        "print(Z)\n",
        "# []の中身では何をしている？"
      ],
      "execution_count": null,
      "outputs": []
    },
    {
      "cell_type": "code",
      "metadata": {
        "id": "gSMEpggSWbXU"
      },
      "source": [
        "Z = np.random.random(10)\n",
        "print(Z)\n",
        "Z[Z.argmax()] = 0\n",
        "print(Z)"
      ],
      "execution_count": null,
      "outputs": []
    },
    {
      "cell_type": "code",
      "metadata": {
        "id": "3Qlx_7KEWeD-"
      },
      "source": [
        "Z = np.arange(100)\n",
        "v = np.random.uniform(0,100)\n",
        "index = (np.abs(Z-v)).argmin()\n",
        "print(Z[index])"
      ],
      "execution_count": null,
      "outputs": []
    },
    {
      "cell_type": "markdown",
      "metadata": {
        "id": "4XRoJxhoWr2s"
      },
      "source": [
        "* 高度なデータ分析"
      ]
    },
    {
      "cell_type": "code",
      "metadata": {
        "id": "ZAzdeYWpWmU1"
      },
      "source": [
        "Z = np.random.uniform(0,1,(10,10))\n",
        "U, S, V = np.linalg.svd(Z)\n",
        "rank = np.sum(S > 1e-10)\n",
        "print(rank)"
      ],
      "execution_count": null,
      "outputs": []
    }
  ]
}