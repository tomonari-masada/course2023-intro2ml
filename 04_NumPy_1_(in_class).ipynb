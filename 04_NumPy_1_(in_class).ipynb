{
  "nbformat": 4,
  "nbformat_minor": 0,
  "metadata": {
    "colab": {
      "provenance": [],
      "authorship_tag": "ABX9TyPVd46GyVUWYbpIXdfrA0/X",
      "include_colab_link": true
    },
    "kernelspec": {
      "name": "python3",
      "display_name": "Python 3"
    },
    "language_info": {
      "name": "python"
    }
  },
  "cells": [
    {
      "cell_type": "markdown",
      "metadata": {
        "id": "view-in-github",
        "colab_type": "text"
      },
      "source": [
        "<a href=\"https://colab.research.google.com/github/tomonari-masada/course2023-intro2ml/blob/main/04_NumPy_1_(in_class).ipynb\" target=\"_parent\"><img src=\"https://colab.research.google.com/assets/colab-badge.svg\" alt=\"Open In Colab\"/></a>"
      ]
    },
    {
      "cell_type": "markdown",
      "metadata": {
        "id": "AHp3ueBza0PR"
      },
      "source": [
        "# モジュール、パッケージ、ライブラリ\n",
        "https://docs.python.org/3/tutorial/modules.html\n",
        "* \"A module is a file containing Python definitions and statements.\"\n",
        "* \"Packages are a way of structuring Python’s module namespace by using “dotted module names”.\""
      ]
    },
    {
      "cell_type": "markdown",
      "metadata": {
        "id": "iVXwFXEqeDkG"
      },
      "source": [
        "https://realpython.com/lessons/scripts-modules-packages-and-libraries/\n",
        "* \"A module is a Python file that’s intended to be imported into scripts or other modules.\"\n",
        "* \"A package is a collection of related modules that work together to provide certain functionality.\"\n",
        "* \"A library is an umbrella term that loosely means “a bundle of code.” These can have tens or even hundreds of individual modules that can provide a wide range of functionality.\""
      ]
    },
    {
      "cell_type": "markdown",
      "metadata": {
        "id": "Tlv9lakya36X"
      },
      "source": [
        "## mathモジュール"
      ]
    },
    {
      "cell_type": "code",
      "metadata": {
        "id": "_ctew8faYguj",
        "colab": {
          "base_uri": "https://localhost:8080/"
        },
        "outputId": "0d533a19-018e-422e-cbb9-fe5b78d78f48"
      },
      "source": [
        "import math\n",
        "\n",
        "a = 2.0\n",
        "b = math.sqrt(a)\n",
        "print(a, b)\n",
        "b = math.exp(a)\n",
        "print(a, b)"
      ],
      "execution_count": null,
      "outputs": [
        {
          "output_type": "stream",
          "name": "stdout",
          "text": [
            "2.0 1.4142135623730951\n",
            "2.0 7.38905609893065\n"
          ]
        }
      ]
    },
    {
      "cell_type": "markdown",
      "metadata": {
        "id": "EN-O9_-ca5sA"
      },
      "source": [
        "## reモジュール\n",
        "* 正規表現"
      ]
    },
    {
      "cell_type": "code",
      "metadata": {
        "id": "8x7ObOCtYhwU"
      },
      "source": [
        "import re\n",
        "\n",
        "s = 'one two one two'\n",
        "m = re.finditer('one', s)\n",
        "for match in m:\n",
        "  print(match.start())"
      ],
      "execution_count": null,
      "outputs": []
    },
    {
      "cell_type": "markdown",
      "metadata": {
        "id": "Hfkm3naOa97O"
      },
      "source": [
        "# NumPyライブラリ"
      ]
    },
    {
      "cell_type": "markdown",
      "metadata": {
        "id": "4-ScijSFbDga"
      },
      "source": [
        "* ベクトルや行列を扱える（他にも様々な機能がある）\n",
        " * ベクトルどうしの内積\n",
        " * 行列とベクトルの積\n",
        " * 行列と行列の積\n",
        " * 逆行列\n",
        " \n",
        "* ndarrayという独自のデータ構造を使う\n",
        " * ちゃんとコードを書けば高速（ちゃんと書かないと遅い・・・）\n"
      ]
    },
    {
      "cell_type": "markdown",
      "metadata": {
        "id": "0swi2CAGbNiJ"
      },
      "source": [
        "## ndarray（NumPyの配列）の作り方"
      ]
    },
    {
      "cell_type": "markdown",
      "metadata": {
        "id": "omiKZwz5bhMN"
      },
      "source": [
        "### Pythonのリストから作る"
      ]
    },
    {
      "cell_type": "code",
      "source": [
        "import numpy as np\n",
        "\n",
        "a = np.array([-2.3, 1.0, 3.0])\n",
        "print(a)"
      ],
      "metadata": {
        "colab": {
          "base_uri": "https://localhost:8080/"
        },
        "id": "fck-2P1UyjVD",
        "outputId": "457abcf0-f21c-4e63-b526-ada5d7f947ca"
      },
      "execution_count": null,
      "outputs": [
        {
          "output_type": "stream",
          "name": "stdout",
          "text": [
            "[-2.3  1.   3. ]\n"
          ]
        }
      ]
    },
    {
      "cell_type": "code",
      "source": [
        "b = np.array([[1.0,2.0,3.0], [4.0,5.0,6.0]])\n",
        "print(b)"
      ],
      "metadata": {
        "colab": {
          "base_uri": "https://localhost:8080/"
        },
        "id": "yxZ-eYEUzZR3",
        "outputId": "40b46ea8-04d5-441a-fd21-eb44f0d9e67c"
      },
      "execution_count": null,
      "outputs": [
        {
          "output_type": "stream",
          "name": "stdout",
          "text": [
            "[[1. 2. 3.]\n",
            " [4. 5. 6.]]\n"
          ]
        }
      ]
    },
    {
      "cell_type": "code",
      "metadata": {
        "id": "srm7ORHZYqfp",
        "colab": {
          "base_uri": "https://localhost:8080/"
        },
        "outputId": "8775d248-8e40-41b0-843e-82362009c6a6"
      },
      "source": [
        "print(b.T) #ndarrayの属性の例（転置属性）"
      ],
      "execution_count": null,
      "outputs": [
        {
          "output_type": "stream",
          "name": "stdout",
          "text": [
            "[[1. 4.]\n",
            " [2. 5.]\n",
            " [3. 6.]]\n"
          ]
        }
      ]
    },
    {
      "cell_type": "code",
      "source": [
        "aa = [1, 2, 3]\n",
        "aa_new = []\n",
        "for n in aa:\n",
        "  aa_new.append(n * 3)\n",
        "print(aa_new)\n"
      ],
      "metadata": {
        "colab": {
          "base_uri": "https://localhost:8080/"
        },
        "id": "DLEukxxupDkm",
        "outputId": "d97f0b1f-9953-4fc1-a019-0a9905b7944f"
      },
      "execution_count": null,
      "outputs": [
        {
          "output_type": "stream",
          "name": "stdout",
          "text": [
            "[3, 6, 9]\n"
          ]
        }
      ]
    },
    {
      "cell_type": "code",
      "source": [
        "a = np.array([1, 2, 3])\n",
        "print(a * 3)\n",
        "print(a + 2)"
      ],
      "metadata": {
        "colab": {
          "base_uri": "https://localhost:8080/"
        },
        "id": "EeHCamAvoxmK",
        "outputId": "4c165196-cf94-4809-c966-a52e02096159"
      },
      "execution_count": null,
      "outputs": [
        {
          "output_type": "stream",
          "name": "stdout",
          "text": [
            "[3 6 9]\n",
            "[3 4 5]\n"
          ]
        }
      ]
    },
    {
      "cell_type": "code",
      "metadata": {
        "id": "hlUvFI_mYyQh",
        "colab": {
          "base_uri": "https://localhost:8080/"
        },
        "outputId": "99b2f46b-715f-47ed-9863-5ce10f715481"
      },
      "source": [
        "a = np.array([1, 2, 3])\n",
        "b = np.array([2, 2, 0])\n",
        "print(a + b)\n",
        "#print(a / b) #警告が出る（どんな警告？）\n",
        "print(a * b)\n",
        "print(np.dot(a, b)) #内積"
      ],
      "execution_count": null,
      "outputs": [
        {
          "output_type": "stream",
          "name": "stdout",
          "text": [
            "[3 4 3]\n",
            "[2 4 0]\n",
            "6\n"
          ]
        }
      ]
    },
    {
      "cell_type": "code",
      "source": [
        "a = np.array([-2.0, 1.0, 3.0])\n",
        "b = np.array([[1,2,3], [4,5,6]])\n",
        "print(a)\n",
        "print(b)\n",
        "print(np.dot(b, a))"
      ],
      "metadata": {
        "colab": {
          "base_uri": "https://localhost:8080/"
        },
        "id": "AFZ4DGRqqQLi",
        "outputId": "1f26ae36-c385-4c8b-fd76-80f707e79b0c"
      },
      "execution_count": null,
      "outputs": [
        {
          "output_type": "stream",
          "name": "stdout",
          "text": [
            "[-2.  1.  3.]\n",
            "[[1 2 3]\n",
            " [4 5 6]]\n",
            "[ 9. 15.]\n"
          ]
        }
      ]
    },
    {
      "cell_type": "markdown",
      "metadata": {
        "id": "LPZn1uvTbQwL"
      },
      "source": [
        "### ndarrayの属性"
      ]
    },
    {
      "cell_type": "code",
      "metadata": {
        "id": "zqnXK4utYvRC",
        "colab": {
          "base_uri": "https://localhost:8080/"
        },
        "outputId": "bd7cd8ea-4364-4dd7-f636-0c0b7a5dd18b"
      },
      "source": [
        "a = np.array([-2.0, 1.0, 3.0])\n",
        "b = np.array([[1,2,3], [4,5,6]])\n",
        "\n",
        "#print(type(a)) #ndarray自体のデータ型\n",
        "#print(a.data) #メモリ上での位置\n",
        "#print(a.dtype) #要素のデータ型\n",
        "#print(a.size, b.size)\n",
        "#print(a.itemsize, b.itemsize) #要素のサイズ\n",
        "#print(a.ndim, b.ndim) #次元数\n",
        "print(a.shape, b.shape) #形状"
      ],
      "execution_count": null,
      "outputs": [
        {
          "output_type": "stream",
          "name": "stdout",
          "text": [
            "(3,) (2, 3)\n"
          ]
        }
      ]
    },
    {
      "cell_type": "markdown",
      "metadata": {
        "id": "Gn13GaIUbawK"
      },
      "source": [
        "### ndarrayの作り方のいろいろ"
      ]
    },
    {
      "cell_type": "code",
      "source": [
        "a = np.arange(10)\n",
        "print(a)"
      ],
      "metadata": {
        "colab": {
          "base_uri": "https://localhost:8080/"
        },
        "id": "MqnbHv5IrRbQ",
        "outputId": "0ef4ba22-6ccf-4b23-fbe8-ac4832177655"
      },
      "execution_count": null,
      "outputs": [
        {
          "output_type": "stream",
          "name": "stdout",
          "text": [
            "[0 1 2 3 4 5 6 7 8 9]\n"
          ]
        }
      ]
    },
    {
      "cell_type": "code",
      "source": [
        "b = np.arange(0, 10, 2)\n",
        "print(b)"
      ],
      "metadata": {
        "colab": {
          "base_uri": "https://localhost:8080/"
        },
        "id": "Xw9iKnDwrdVN",
        "outputId": "62bf77b9-4142-4cc5-9857-575fd2906010"
      },
      "execution_count": null,
      "outputs": [
        {
          "output_type": "stream",
          "name": "stdout",
          "text": [
            "[0 2 4 6 8]\n"
          ]
        }
      ]
    },
    {
      "cell_type": "code",
      "metadata": {
        "id": "3f6iGuw6Yz-q",
        "colab": {
          "base_uri": "https://localhost:8080/"
        },
        "outputId": "64703fec-64c1-4578-a153-c86556e5ac5f"
      },
      "source": [
        "x = np.linspace(0, 10, 101) #0以上10以下を10等分\n",
        "print(x)"
      ],
      "execution_count": null,
      "outputs": [
        {
          "output_type": "stream",
          "name": "stdout",
          "text": [
            "[ 0.   0.1  0.2  0.3  0.4  0.5  0.6  0.7  0.8  0.9  1.   1.1  1.2  1.3\n",
            "  1.4  1.5  1.6  1.7  1.8  1.9  2.   2.1  2.2  2.3  2.4  2.5  2.6  2.7\n",
            "  2.8  2.9  3.   3.1  3.2  3.3  3.4  3.5  3.6  3.7  3.8  3.9  4.   4.1\n",
            "  4.2  4.3  4.4  4.5  4.6  4.7  4.8  4.9  5.   5.1  5.2  5.3  5.4  5.5\n",
            "  5.6  5.7  5.8  5.9  6.   6.1  6.2  6.3  6.4  6.5  6.6  6.7  6.8  6.9\n",
            "  7.   7.1  7.2  7.3  7.4  7.5  7.6  7.7  7.8  7.9  8.   8.1  8.2  8.3\n",
            "  8.4  8.5  8.6  8.7  8.8  8.9  9.   9.1  9.2  9.3  9.4  9.5  9.6  9.7\n",
            "  9.8  9.9 10. ]\n"
          ]
        }
      ]
    },
    {
      "cell_type": "code",
      "source": [
        "a = np.random.rand(3, 4) # 0~1の一様乱数\n",
        "print(a)"
      ],
      "metadata": {
        "colab": {
          "base_uri": "https://localhost:8080/"
        },
        "id": "Aq5lgzO8spCU",
        "outputId": "27f7a32d-4160-425e-f3f6-ece93c389e61"
      },
      "execution_count": null,
      "outputs": [
        {
          "output_type": "stream",
          "name": "stdout",
          "text": [
            "[[0.5856319  0.25640604 0.75236514 0.68270169]\n",
            " [0.04384042 0.14104418 0.93387119 0.24286146]\n",
            " [0.08375371 0.01076977 0.06557479 0.61897676]]\n"
          ]
        }
      ]
    },
    {
      "cell_type": "code",
      "metadata": {
        "id": "cTjr9VdUY58Z"
      },
      "source": [
        "#print(np.random.randn()) #正規乱数\n",
        "\n",
        "b = np.random.randn(3, 4)\n",
        "print(b)\n",
        "print(np.dot(a, b))\n",
        "print(np.dot(b, a)) #エラー（なぜ？）"
      ],
      "execution_count": null,
      "outputs": []
    },
    {
      "cell_type": "code",
      "source": [
        "a = np.ones((5, 4)) #()で囲む必要あり\n",
        "print(a)"
      ],
      "metadata": {
        "colab": {
          "base_uri": "https://localhost:8080/"
        },
        "id": "mrP5h-yMtHQc",
        "outputId": "07767a71-a62e-4c38-d884-d33314712d91"
      },
      "execution_count": null,
      "outputs": [
        {
          "output_type": "stream",
          "name": "stdout",
          "text": [
            "[[1. 1. 1. 1.]\n",
            " [1. 1. 1. 1.]\n",
            " [1. 1. 1. 1.]\n",
            " [1. 1. 1. 1.]\n",
            " [1. 1. 1. 1.]]\n"
          ]
        }
      ]
    },
    {
      "cell_type": "code",
      "source": [
        "b = np.ones((3, 5))\n",
        "print(b)"
      ],
      "metadata": {
        "colab": {
          "base_uri": "https://localhost:8080/"
        },
        "id": "emPr24hwtbHm",
        "outputId": "48ce9e36-5b9e-4bf7-edf7-86a7827ccc5c"
      },
      "execution_count": null,
      "outputs": [
        {
          "output_type": "stream",
          "name": "stdout",
          "text": [
            "[[1. 1. 1. 1. 1.]\n",
            " [1. 1. 1. 1. 1.]\n",
            " [1. 1. 1. 1. 1.]]\n"
          ]
        }
      ]
    },
    {
      "cell_type": "code",
      "source": [
        "np.dot(a, b)"
      ],
      "metadata": {
        "colab": {
          "base_uri": "https://localhost:8080/",
          "height": 204
        },
        "id": "z-Q7dD06vu02",
        "outputId": "0f725fb2-4a10-41e4-ad7d-3959b6346e7f"
      },
      "execution_count": null,
      "outputs": [
        {
          "output_type": "error",
          "ename": "ValueError",
          "evalue": "ignored",
          "traceback": [
            "\u001b[0;31m---------------------------------------------------------------------------\u001b[0m",
            "\u001b[0;31mValueError\u001b[0m                                Traceback (most recent call last)",
            "\u001b[0;32m<ipython-input-36-c9cc415545b4>\u001b[0m in \u001b[0;36m<cell line: 1>\u001b[0;34m()\u001b[0m\n\u001b[0;32m----> 1\u001b[0;31m \u001b[0mnp\u001b[0m\u001b[0;34m.\u001b[0m\u001b[0mdot\u001b[0m\u001b[0;34m(\u001b[0m\u001b[0ma\u001b[0m\u001b[0;34m,\u001b[0m \u001b[0mb\u001b[0m\u001b[0;34m)\u001b[0m\u001b[0;34m\u001b[0m\u001b[0;34m\u001b[0m\u001b[0m\n\u001b[0m",
            "\u001b[0;32m/usr/local/lib/python3.10/dist-packages/numpy/core/overrides.py\u001b[0m in \u001b[0;36mdot\u001b[0;34m(*args, **kwargs)\u001b[0m\n",
            "\u001b[0;31mValueError\u001b[0m: shapes (5,4) and (3,5) not aligned: 4 (dim 1) != 3 (dim 0)"
          ]
        }
      ]
    },
    {
      "cell_type": "code",
      "metadata": {
        "id": "juezWtTpY7fh"
      },
      "source": [
        "\n",
        "print(np.dot(b, b)) #なぜこうなる？\n",
        "\n",
        "c = np.full((2,2), 7)\n",
        "print(c)"
      ],
      "execution_count": null,
      "outputs": []
    },
    {
      "cell_type": "markdown",
      "metadata": {
        "id": "YRd5MaWsbupX"
      },
      "source": [
        "## 配列の要素を指定する"
      ]
    },
    {
      "cell_type": "markdown",
      "metadata": {
        "id": "AIUg61oUb-lM"
      },
      "source": [
        "### インデックス"
      ]
    },
    {
      "cell_type": "code",
      "metadata": {
        "id": "rzLp8AQHY9jB",
        "colab": {
          "base_uri": "https://localhost:8080/"
        },
        "outputId": "638f1c0a-9b63-426a-c175-842eb7407dc4"
      },
      "source": [
        "a = np.arange(1, 20, 3)\n",
        "print(a)\n",
        "print(a[0])\n",
        "print(a[1])\n",
        "a[3] = 11\n",
        "print(a)\n",
        "c = np.array([[1,2,3],[4,5,6]])\n",
        "print(c)\n",
        "print(c[0,0])\n",
        "print(c[0,2])\n",
        "print(c[1,2])"
      ],
      "execution_count": null,
      "outputs": [
        {
          "output_type": "stream",
          "name": "stdout",
          "text": [
            "[ 1  4  7 10 13 16 19]\n",
            "1\n",
            "4\n",
            "[ 1  4  7 11 13 16 19]\n",
            "[[1 2 3]\n",
            " [4 5 6]]\n",
            "1\n",
            "3\n",
            "6\n"
          ]
        }
      ]
    },
    {
      "cell_type": "code",
      "source": [
        "print(c)\n",
        "c[1,1] = 50\n",
        "print(c)"
      ],
      "metadata": {
        "colab": {
          "base_uri": "https://localhost:8080/"
        },
        "id": "4e2_OfYsxgUB",
        "outputId": "09cf68ae-2b2e-4090-9a11-92d842204d3f"
      },
      "execution_count": null,
      "outputs": [
        {
          "output_type": "stream",
          "name": "stdout",
          "text": [
            "[[1 2 3]\n",
            " [4 5 6]]\n",
            "[[ 1  2  3]\n",
            " [ 4 50  6]]\n"
          ]
        }
      ]
    },
    {
      "cell_type": "markdown",
      "metadata": {
        "id": "VGTRdkLDZIYJ"
      },
      "source": [
        "### 良くないコードの例"
      ]
    },
    {
      "cell_type": "code",
      "metadata": {
        "id": "Jn7bUVa6ZAPx"
      },
      "source": [
        "import time\n",
        "import numpy as np\n",
        "\n",
        "x = np.ones(10000000)\n",
        "y = np.ones(10000000)\n",
        "s = np.zeros(10000000)\n",
        "for _ in range(10):\n",
        "  a = time.time()\n",
        "  for i in range(10000000):\n",
        "    s[i] = x[i] + y[i]\n",
        "  b = time.time()\n",
        "  print(b - a)"
      ],
      "execution_count": null,
      "outputs": []
    },
    {
      "cell_type": "markdown",
      "metadata": {
        "id": "rPzYF1AkZMom"
      },
      "source": [
        "* 上のセルのように書くより、こう書くほうが良い"
      ]
    },
    {
      "cell_type": "code",
      "metadata": {
        "id": "7s8cFdShZQn-"
      },
      "source": [
        "import time\n",
        "import numpy as np\n",
        "\n",
        "x = np.ones(10000000)\n",
        "y = np.ones(10000000)\n",
        "s = np.zeros(10000000)\n",
        "for _ in range(10):\n",
        "  a = time.time()\n",
        "  s = x + y\n",
        "  b = time.time()\n",
        "  print(b - a)"
      ],
      "execution_count": null,
      "outputs": []
    },
    {
      "cell_type": "markdown",
      "metadata": {
        "id": "ku21YYlpb6I_"
      },
      "source": [
        "### スライシング"
      ]
    },
    {
      "cell_type": "code",
      "source": [
        "a = np.arange(1, 20, 3)\n",
        "print(a)"
      ],
      "metadata": {
        "colab": {
          "base_uri": "https://localhost:8080/"
        },
        "id": "yGorEC4cx1aS",
        "outputId": "7c3f0f67-475e-4407-97c6-9d18c7c3853d"
      },
      "execution_count": null,
      "outputs": [
        {
          "output_type": "stream",
          "name": "stdout",
          "text": [
            "[ 1  4  7 10 13 16 19]\n"
          ]
        }
      ]
    },
    {
      "cell_type": "code",
      "source": [
        "print(a[4])"
      ],
      "metadata": {
        "colab": {
          "base_uri": "https://localhost:8080/"
        },
        "id": "0ukiCep_x8-n",
        "outputId": "3eb75a49-02f6-4c49-fd5a-65ea05cca9d8"
      },
      "execution_count": null,
      "outputs": [
        {
          "output_type": "stream",
          "name": "stdout",
          "text": [
            "13\n"
          ]
        }
      ]
    },
    {
      "cell_type": "code",
      "source": [
        "print(a[1:4])"
      ],
      "metadata": {
        "colab": {
          "base_uri": "https://localhost:8080/"
        },
        "id": "pZW6yFy6yCXI",
        "outputId": "70c8b905-0404-4a76-c951-bff764a03b46"
      },
      "execution_count": null,
      "outputs": [
        {
          "output_type": "stream",
          "name": "stdout",
          "text": [
            "[ 4  7 10]\n"
          ]
        }
      ]
    },
    {
      "cell_type": "code",
      "source": [
        "print(a[0:6:2])"
      ],
      "metadata": {
        "colab": {
          "base_uri": "https://localhost:8080/"
        },
        "id": "tkwFhjBHyQez",
        "outputId": "7c0ce638-453e-4883-b31f-f4c411face0c"
      },
      "execution_count": null,
      "outputs": [
        {
          "output_type": "stream",
          "name": "stdout",
          "text": [
            "[ 1  7 13]\n"
          ]
        }
      ]
    },
    {
      "cell_type": "code",
      "source": [
        "print(a[::-1])"
      ],
      "metadata": {
        "colab": {
          "base_uri": "https://localhost:8080/"
        },
        "id": "17pSKMuFyiZY",
        "outputId": "6898ee8e-e604-4448-aeb0-80c8732e954c"
      },
      "execution_count": null,
      "outputs": [
        {
          "output_type": "stream",
          "name": "stdout",
          "text": [
            "[19 16 13 10  7  4  1]\n"
          ]
        }
      ]
    },
    {
      "cell_type": "code",
      "source": [
        "print(a[3::-1])"
      ],
      "metadata": {
        "colab": {
          "base_uri": "https://localhost:8080/"
        },
        "id": "V7HjFuNiy2_2",
        "outputId": "b715d9b9-abdc-4a01-fea7-54115bd483ad"
      },
      "execution_count": null,
      "outputs": [
        {
          "output_type": "stream",
          "name": "stdout",
          "text": [
            "[10  7  4  1]\n"
          ]
        }
      ]
    },
    {
      "cell_type": "code",
      "source": [
        "print(a)\n",
        "print(a[-1:-4:-1])"
      ],
      "metadata": {
        "colab": {
          "base_uri": "https://localhost:8080/"
        },
        "id": "wPjs4qNczBnO",
        "outputId": "1e21abaa-0bd8-4e56-9b06-8fb78ae4f283"
      },
      "execution_count": null,
      "outputs": [
        {
          "output_type": "stream",
          "name": "stdout",
          "text": [
            "[ 1  4  7 10 13 16 19]\n",
            "[19 16 13]\n"
          ]
        }
      ]
    },
    {
      "cell_type": "code",
      "metadata": {
        "id": "2V5VfCO4ZUrZ"
      },
      "source": [
        "print(a[1:5])\n",
        "\n",
        "\n",
        "print(a[-2::-1])\n",
        "print(a[-2:1:-1])"
      ],
      "execution_count": null,
      "outputs": []
    },
    {
      "cell_type": "markdown",
      "metadata": {
        "id": "mQ2JhxBJcBuS"
      },
      "source": [
        "### fancy index"
      ]
    },
    {
      "cell_type": "code",
      "metadata": {
        "id": "v9XiqHT-ZWSR"
      },
      "source": [
        "np.random.seed(1234)\n",
        "a = np.random.randint(10,size=10)\n",
        "print(a)\n",
        "m = a % 3 == 0\n",
        "print(m)\n",
        "print(type(m))\n",
        "print(m.dtype)\n",
        "b = a[m]\n",
        "print(b) "
      ],
      "execution_count": null,
      "outputs": []
    },
    {
      "cell_type": "markdown",
      "metadata": {
        "id": "8sAWN6YIcFMp"
      },
      "source": [
        "### where関数"
      ]
    },
    {
      "cell_type": "code",
      "metadata": {
        "id": "vdQeMI1mZXvR"
      },
      "source": [
        "np.random.seed(1234)\n",
        "a = np.random.randint(10,size=10)\n",
        "print(a)\n",
        "m = np.where(a % 3 == 0) #インデックスのtupleを返す\n",
        "print(m)\n",
        "print(type(m))\n",
        "b = a[m]\n",
        "print(b) "
      ],
      "execution_count": null,
      "outputs": []
    },
    {
      "cell_type": "code",
      "metadata": {
        "id": "lDGpLYtDZaG5"
      },
      "source": [
        "np.random.seed(1234)\n",
        "a = np.random.randint(10,size=10)\n",
        "print(a)\n",
        "m = np.where(a % 2 == 0, 'even', 'odd')\n",
        "print(m)\n",
        "\n",
        "print(a[m == 'even'])"
      ],
      "execution_count": null,
      "outputs": []
    },
    {
      "cell_type": "markdown",
      "metadata": {
        "id": "M5ZVnM-4cIjb"
      },
      "source": [
        "## 配列のコピー"
      ]
    },
    {
      "cell_type": "markdown",
      "metadata": {
        "id": "FzalREx9cVCr"
      },
      "source": [
        "### 配列のビュー\n",
        "* コピーではない"
      ]
    },
    {
      "cell_type": "code",
      "metadata": {
        "id": "Bajlb7q3cXGK"
      },
      "source": [
        "a = np.array([1, 2, 3])\n",
        "b = a #ビューを作っている\n",
        "print(id(a) == id(b))"
      ],
      "execution_count": null,
      "outputs": []
    },
    {
      "cell_type": "markdown",
      "metadata": {
        "id": "QBaj4afYZf9M"
      },
      "source": [
        "### 復習：リストのコピー"
      ]
    },
    {
      "cell_type": "code",
      "metadata": {
        "id": "9s7sI0f6Zb9Q"
      },
      "source": [
        "a = [1, 2, 3]\n",
        "b = a\n",
        "b[1] = 22\n",
        "print(a)\n",
        "print(b)\n",
        "c = a[:] #リストがコピーされる\n",
        "c[2] = 234\n",
        "print(a)\n",
        "print(c)"
      ],
      "execution_count": null,
      "outputs": []
    },
    {
      "cell_type": "markdown",
      "metadata": {
        "id": "oBRFhX3NZvrC"
      },
      "source": [
        "## ndarrayの場合の`a[:]`"
      ]
    },
    {
      "cell_type": "code",
      "metadata": {
        "id": "CTOUB97jZgr5"
      },
      "source": [
        "a = np.array([1, 2, 3])\n",
        "c = a[:] #コピーされるかどうか？\n",
        "print(id(a) == id(c))\n",
        "c[1] = 22\n",
        "print(a) #変化している"
      ],
      "execution_count": null,
      "outputs": []
    },
    {
      "cell_type": "markdown",
      "metadata": {
        "id": "EaVzJy8XccaI"
      },
      "source": [
        "### `copy`メソッド"
      ]
    },
    {
      "cell_type": "code",
      "metadata": {
        "id": "HpvXCyFhZim5"
      },
      "source": [
        "a = np.array([1, 2, 3])\n",
        "d = a.copy() #コピーを作る\n",
        "print(id(a) == id(d))\n",
        "d[2] = 234\n",
        "print(a) #変化していない"
      ],
      "execution_count": null,
      "outputs": []
    },
    {
      "cell_type": "markdown",
      "metadata": {
        "id": "DE6_XyE7ctDL"
      },
      "source": [
        "## in-place演算"
      ]
    },
    {
      "cell_type": "code",
      "metadata": {
        "id": "YBDEJIiaZqcJ"
      },
      "source": [
        "a = np.array([1, 2, 3])\n",
        "c = a #ビューを作る\n",
        "a = a + 1 #ここで別のオブジェクトになる\n",
        "print(c)\n",
        "\n",
        "a = np.array([1, 2, 3])\n",
        "c = a #ビューを作る\n",
        "a += 1 #in-place演算\n",
        "print(c) #変化している"
      ],
      "execution_count": null,
      "outputs": []
    },
    {
      "cell_type": "markdown",
      "metadata": {
        "id": "6ADmfSvXcv6i"
      },
      "source": [
        "### in-place演算と演算関数の比較"
      ]
    },
    {
      "cell_type": "code",
      "metadata": {
        "id": "c7bVUN5kaLMc"
      },
      "source": [
        "import time\n",
        "import numpy as np"
      ],
      "execution_count": null,
      "outputs": []
    },
    {
      "cell_type": "code",
      "metadata": {
        "id": "7aPtHu-jZ_GT"
      },
      "source": [
        "size = 100000000\n",
        "x = np.ones(size)\n",
        "y = np.ones(size)\n",
        "for _ in range(10):\n",
        "  a = time.time()\n",
        "  x = x * 4 + y * 3\n",
        "  b = time.time()\n",
        "  print(b - a)\n",
        "  x = np.ones(size)\n",
        "  y = np.ones(size)"
      ],
      "execution_count": null,
      "outputs": []
    },
    {
      "cell_type": "code",
      "metadata": {
        "id": "N7WerW8caDw3"
      },
      "source": [
        "size = 100000000\n",
        "x = np.ones(size)\n",
        "y = np.ones(size)\n",
        "for _ in range(10):\n",
        "  a = time.time()\n",
        "  x *= 4\n",
        "  y *= 3\n",
        "  x += y\n",
        "  b = time.time()\n",
        "  print(b - a)\n",
        "  x = np.ones(size)\n",
        "  y = np.ones(size)"
      ],
      "execution_count": null,
      "outputs": []
    },
    {
      "cell_type": "code",
      "metadata": {
        "id": "MKG48zxCaQe7"
      },
      "source": [
        "import time\n",
        "import numpy as np\n",
        "\n",
        "size = 100000000\n",
        "x = np.ones(size)\n",
        "y = np.ones(size)\n",
        "for _ in range(10):\n",
        "  a = time.time()\n",
        "  np.multiply(x, 4, out=x)\n",
        "  np.multiply(y, 3, out=y)\n",
        "  np.add(x, y, out=x)\n",
        "  b = time.time()\n",
        "  print(b - a)\n",
        "  x = np.ones(size)\n",
        "  y = np.ones(size)"
      ],
      "execution_count": null,
      "outputs": []
    },
    {
      "cell_type": "markdown",
      "metadata": {
        "id": "w9XBDkJRc19M"
      },
      "source": [
        "## 配列の形状を変更する"
      ]
    },
    {
      "cell_type": "code",
      "metadata": {
        "id": "galRR6uCaVAK"
      },
      "source": [
        "a = np.arange(12)\n",
        "print(a)\n",
        "b = np.reshape(a, (3, 4)) #NumPyの関数reshape\n",
        "print(b)\n",
        "a[3] *= -1\n",
        "print(a)\n",
        "print(b) #変化している\n",
        "c = a.reshape((2,6)) #ndarrayのreshapeメソッド\n",
        "print(c)"
      ],
      "execution_count": null,
      "outputs": []
    },
    {
      "cell_type": "code",
      "source": [],
      "metadata": {
        "colab": {
          "base_uri": "https://localhost:8080/"
        },
        "id": "H_om72D6z0Bb",
        "outputId": "474dd5ac-49a4-4794-ffaf-be82186a91f7"
      },
      "execution_count": null,
      "outputs": [
        {
          "output_type": "stream",
          "name": "stdout",
          "text": [
            "[1. 1. 1. 1. 1. 1.]\n"
          ]
        }
      ]
    },
    {
      "cell_type": "code",
      "source": [
        "a = np.ones(6)\n",
        "print(a)\n",
        "b = a.copy()\n",
        "print(b)\n",
        "a[0] = 10 # bも変更される\n",
        "print(a)\n",
        "print(b)"
      ],
      "metadata": {
        "colab": {
          "base_uri": "https://localhost:8080/"
        },
        "id": "_H7KolXbz3OA",
        "outputId": "96c975d3-fd83-41fc-c522-da92518408a9"
      },
      "execution_count": null,
      "outputs": [
        {
          "output_type": "stream",
          "name": "stdout",
          "text": [
            "[1. 1. 1. 1. 1. 1.]\n",
            "[1. 1. 1. 1. 1. 1.]\n",
            "[10.  1.  1.  1.  1.  1.]\n",
            "[1. 1. 1. 1. 1. 1.]\n"
          ]
        }
      ]
    },
    {
      "cell_type": "code",
      "source": [
        "a = [1,2,3,4,5]\n",
        "print(a)\n",
        "b = a # リストも代入文ではコピーされない\n",
        "print(b)\n",
        "a[0] = 10\n",
        "print(a)\n",
        "print(b)"
      ],
      "metadata": {
        "colab": {
          "base_uri": "https://localhost:8080/"
        },
        "id": "CeE_4BpVz7HN",
        "outputId": "fb456b4f-50ba-4359-bbf5-dea992619174"
      },
      "execution_count": null,
      "outputs": [
        {
          "output_type": "stream",
          "name": "stdout",
          "text": [
            "[1, 2, 3, 4, 5]\n",
            "[1, 2, 3, 4, 5]\n",
            "[10, 2, 3, 4, 5]\n",
            "[1, 2, 3, 4, 5]\n"
          ]
        }
      ]
    },
    {
      "cell_type": "markdown",
      "source": [
        "ごついデータは、代入文でコピーされない。"
      ],
      "metadata": {
        "id": "c-rQpSYz1z-K"
      }
    },
    {
      "cell_type": "code",
      "source": [
        "x = 100.100\n",
        "y = x\n",
        "x = 1\n",
        "print(x)\n",
        "print(y)"
      ],
      "metadata": {
        "colab": {
          "base_uri": "https://localhost:8080/"
        },
        "id": "vBNhVlcF1aRs",
        "outputId": "55315a63-2d79-456c-9a6f-a606ca5110a6"
      },
      "execution_count": null,
      "outputs": [
        {
          "output_type": "stream",
          "name": "stdout",
          "text": [
            "1\n",
            "100.1\n"
          ]
        }
      ]
    },
    {
      "cell_type": "code",
      "source": [],
      "metadata": {
        "id": "SR_uWJNA1bnS"
      },
      "execution_count": null,
      "outputs": []
    }
  ]
}