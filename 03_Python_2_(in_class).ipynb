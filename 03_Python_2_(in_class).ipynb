{
  "nbformat": 4,
  "nbformat_minor": 0,
  "metadata": {
    "colab": {
      "provenance": [],
      "authorship_tag": "ABX9TyP5K9M3VjrQXMupmjmSTIJ0",
      "include_colab_link": true
    },
    "kernelspec": {
      "name": "python3",
      "display_name": "Python 3"
    },
    "language_info": {
      "name": "python"
    }
  },
  "cells": [
    {
      "cell_type": "markdown",
      "metadata": {
        "id": "view-in-github",
        "colab_type": "text"
      },
      "source": [
        "<a href=\"https://colab.research.google.com/github/tomonari-masada/course2023-intro2ml/blob/main/03_Python_2_(in_class).ipynb\" target=\"_parent\"><img src=\"https://colab.research.google.com/assets/colab-badge.svg\" alt=\"Open In Colab\"/></a>"
      ]
    },
    {
      "cell_type": "markdown",
      "metadata": {
        "id": "nnrbBOomw2H4"
      },
      "source": [
        "# Python入門（２）"
      ]
    },
    {
      "cell_type": "markdown",
      "metadata": {
        "id": "BKC1aUbuiAvC"
      },
      "source": [
        "## ループ（for文を使う）"
      ]
    },
    {
      "cell_type": "code",
      "metadata": {
        "id": "ZePLcX9Sw1uZ",
        "colab": {
          "base_uri": "https://localhost:8080/"
        },
        "outputId": "bf672577-498a-4133-e7c6-6873938bca5d"
      },
      "source": [
        "for i in range(6):\n",
        "    print(i)"
      ],
      "execution_count": null,
      "outputs": [
        {
          "output_type": "stream",
          "name": "stdout",
          "text": [
            "0\n",
            "1\n",
            "2\n",
            "3\n",
            "4\n",
            "5\n"
          ]
        }
      ]
    },
    {
      "cell_type": "code",
      "metadata": {
        "id": "7lsv6XDww5kE",
        "colab": {
          "base_uri": "https://localhost:8080/"
        },
        "outputId": "e798a249-38cc-4612-e61b-6426d3342e57"
      },
      "source": [
        "x = 10\n",
        "for i in range(x):\n",
        "    print(i)"
      ],
      "execution_count": null,
      "outputs": [
        {
          "output_type": "stream",
          "name": "stdout",
          "text": [
            "0\n",
            "1\n",
            "2\n",
            "3\n",
            "4\n",
            "5\n",
            "6\n",
            "7\n",
            "8\n",
            "9\n"
          ]
        }
      ]
    },
    {
      "cell_type": "code",
      "metadata": {
        "id": "SRAwafrow7M0",
        "colab": {
          "base_uri": "https://localhost:8080/"
        },
        "outputId": "2ec49d3f-0103-4a64-c57c-39fd8cc9231b"
      },
      "source": [
        "for i in range(3, 80, 23):\n",
        "    print(i)"
      ],
      "execution_count": null,
      "outputs": [
        {
          "output_type": "stream",
          "name": "stdout",
          "text": [
            "3\n",
            "26\n",
            "49\n",
            "72\n"
          ]
        }
      ]
    },
    {
      "cell_type": "code",
      "metadata": {
        "id": "z34yEWFFw8fD",
        "colab": {
          "base_uri": "https://localhost:8080/"
        },
        "outputId": "b7a3c8ca-21be-47ab-dca8-83666e6f458f"
      },
      "source": [
        "# 1から100までの整数の和\n",
        "s = 0\n",
        "for i in range(1, 101):\n",
        "    s += i\n",
        "print(s)"
      ],
      "execution_count": null,
      "outputs": [
        {
          "output_type": "stream",
          "name": "stdout",
          "text": [
            "5050\n"
          ]
        }
      ]
    },
    {
      "cell_type": "markdown",
      "metadata": {
        "id": "dXuDdH1oiE-Q"
      },
      "source": [
        "## アサーション"
      ]
    },
    {
      "cell_type": "markdown",
      "metadata": {
        "id": "L16qSytSiIOL"
      },
      "source": [
        "* 与えられた条件が成り立っていないとき、エラーを出す\n",
        "* プログラムが期待通りの動きをしているかのチェックに使う"
      ]
    },
    {
      "cell_type": "code",
      "metadata": {
        "id": "aQBFVNcRw-JT"
      },
      "source": [
        "x = int(input('非負の整数を入力してください: '))\n",
        "assert x >= 0 #次スライドで説明\n",
        "for a in range(x):\n",
        "    if a**2 >= x:\n",
        "        break\n",
        "if a**2 == x:\n",
        "    print(f'{a} is a square root of {x}.')"
      ],
      "execution_count": null,
      "outputs": []
    },
    {
      "cell_type": "markdown",
      "metadata": {
        "id": "m6_aOseSiMiA"
      },
      "source": [
        "## シーケンスとしての文字列"
      ]
    },
    {
      "cell_type": "code",
      "metadata": {
        "id": "RXtC1Goaw_4r"
      },
      "source": [
        "n = 0\n",
        "for c in 'abracadabra':\n",
        "    if c == 'a':\n",
        "        n += 1\n",
        "print(n)"
      ],
      "execution_count": null,
      "outputs": []
    },
    {
      "cell_type": "markdown",
      "source": [
        "* リスト"
      ],
      "metadata": {
        "id": "gDfmEUnNfdKG"
      }
    },
    {
      "cell_type": "code",
      "source": [
        "n = 0\n",
        "for c in ['this', 'is', 'that', 'is', 'there', 'is', 'it', 'is']:\n",
        "    if c == 'is':\n",
        "        n += 1\n",
        "print(n)"
      ],
      "metadata": {
        "colab": {
          "base_uri": "https://localhost:8080/"
        },
        "id": "y_SPfc3hfJP0",
        "outputId": "4d2b2d72-7c2c-48d0-dbd7-03520997b28a"
      },
      "execution_count": null,
      "outputs": [
        {
          "output_type": "stream",
          "name": "stdout",
          "text": [
            "4\n"
          ]
        }
      ]
    },
    {
      "cell_type": "markdown",
      "metadata": {
        "id": "EiQ-lHpniPLP"
      },
      "source": [
        "## 関数定義の詳細"
      ]
    },
    {
      "cell_type": "code",
      "metadata": {
        "id": "k6ss_752xDzJ"
      },
      "source": [
        "def max_value(x, y):\n",
        "    if x > y:\n",
        "        return x\n",
        "    else:\n",
        "        return y"
      ],
      "execution_count": null,
      "outputs": []
    },
    {
      "cell_type": "code",
      "metadata": {
        "id": "9jvrnoU0xF7b",
        "colab": {
          "base_uri": "https://localhost:8080/"
        },
        "outputId": "6a4fd207-e7e8-4131-e3b9-a1d4d6e15db0"
      },
      "source": [
        "print(max_value(8, 3))"
      ],
      "execution_count": null,
      "outputs": [
        {
          "output_type": "stream",
          "name": "stdout",
          "text": [
            "8\n"
          ]
        }
      ]
    },
    {
      "cell_type": "code",
      "source": [
        "print(3 < 3)"
      ],
      "metadata": {
        "colab": {
          "base_uri": "https://localhost:8080/"
        },
        "id": "tTjUsgxVgz1y",
        "outputId": "b517c82d-1857-48b7-be91-127a43bbcdca"
      },
      "execution_count": null,
      "outputs": [
        {
          "output_type": "stream",
          "name": "stdout",
          "text": [
            "False\n"
          ]
        }
      ]
    },
    {
      "cell_type": "code",
      "metadata": {
        "id": "H62HhnAVxOva"
      },
      "source": [
        "def printName(firstName, lastName, reverse):\n",
        "    if reverse:\n",
        "        print(lastName + ', ' + firstName)\n",
        "    else:\n",
        "        print(firstName + ' ' + lastName)"
      ],
      "execution_count": null,
      "outputs": []
    },
    {
      "cell_type": "code",
      "metadata": {
        "id": "ZmDIX2tYxQ1L",
        "colab": {
          "base_uri": "https://localhost:8080/"
        },
        "outputId": "37716aa9-2fcd-4fd6-d8f6-0fcdceea73bb"
      },
      "source": [
        "printName('Taro', 'Yamada', True)"
      ],
      "execution_count": null,
      "outputs": [
        {
          "output_type": "stream",
          "name": "stdout",
          "text": [
            "Yamada, Taro\n"
          ]
        }
      ]
    },
    {
      "cell_type": "code",
      "metadata": {
        "id": "j5pheTLCxTiK",
        "colab": {
          "base_uri": "https://localhost:8080/",
          "height": 170
        },
        "outputId": "6b5d9eac-189c-4250-f69a-346f07d2c839"
      },
      "source": [
        "printName('Taro', 'Yamada')"
      ],
      "execution_count": null,
      "outputs": [
        {
          "output_type": "error",
          "ename": "TypeError",
          "evalue": "ignored",
          "traceback": [
            "\u001b[0;31m---------------------------------------------------------------------------\u001b[0m",
            "\u001b[0;31mTypeError\u001b[0m                                 Traceback (most recent call last)",
            "\u001b[0;32m<ipython-input-12-ccc89bee49d9>\u001b[0m in \u001b[0;36m<cell line: 1>\u001b[0;34m()\u001b[0m\n\u001b[0;32m----> 1\u001b[0;31m \u001b[0mprintName\u001b[0m\u001b[0;34m(\u001b[0m\u001b[0;34m'Taro'\u001b[0m\u001b[0;34m,\u001b[0m \u001b[0;34m'Yamada'\u001b[0m\u001b[0;34m)\u001b[0m\u001b[0;34m\u001b[0m\u001b[0;34m\u001b[0m\u001b[0m\n\u001b[0m",
            "\u001b[0;31mTypeError\u001b[0m: printName() missing 1 required positional argument: 'reverse'"
          ]
        }
      ]
    },
    {
      "cell_type": "markdown",
      "source": [
        "* argument （引数）を書いてもよい。"
      ],
      "metadata": {
        "id": "ZXcgruRAi28n"
      }
    },
    {
      "cell_type": "code",
      "metadata": {
        "id": "U2eo2ZCuxVUq",
        "colab": {
          "base_uri": "https://localhost:8080/"
        },
        "outputId": "5dc747b7-4e10-47af-ed04-063db60137cc"
      },
      "source": [
        "printName('Taro', 'Yamada', False)"
      ],
      "execution_count": null,
      "outputs": [
        {
          "output_type": "stream",
          "name": "stdout",
          "text": [
            "Taro Yamada\n"
          ]
        }
      ]
    },
    {
      "cell_type": "markdown",
      "metadata": {
        "id": "M6L1IqaFidhy"
      },
      "source": [
        "### デフォルト値（既定値）"
      ]
    },
    {
      "cell_type": "code",
      "metadata": {
        "id": "2JCvKlyPxW7a"
      },
      "source": [
        "def printName(firstName, lastName, reverse=False):\n",
        "    if reverse:\n",
        "        print(lastName + ', ' + firstName)\n",
        "    else:\n",
        "        print(firstName + ' ' + lastName)"
      ],
      "execution_count": null,
      "outputs": []
    },
    {
      "cell_type": "code",
      "metadata": {
        "id": "YNffn7VSxd76",
        "colab": {
          "base_uri": "https://localhost:8080/"
        },
        "outputId": "1ca46400-8e07-43bc-ba68-841dff6cb87a"
      },
      "source": [
        "printName('Taro', 'Yamada')"
      ],
      "execution_count": null,
      "outputs": [
        {
          "output_type": "stream",
          "name": "stdout",
          "text": [
            "Taro Yamada\n"
          ]
        }
      ]
    },
    {
      "cell_type": "markdown",
      "metadata": {
        "id": "P879qVkjigtO"
      },
      "source": [
        "### スコープ"
      ]
    },
    {
      "cell_type": "code",
      "source": [
        "def f(x):\n",
        "    y = 1\n",
        "    x = x + y\n",
        "    print('x =', x)\n",
        "    return x"
      ],
      "metadata": {
        "id": "GBAMEIN3oBLC"
      },
      "execution_count": null,
      "outputs": []
    },
    {
      "cell_type": "code",
      "metadata": {
        "id": "y2Ydh-HOxfR6",
        "colab": {
          "base_uri": "https://localhost:8080/"
        },
        "outputId": "1da136d9-323a-44d2-9242-d4b5f132e81c"
      },
      "source": [
        "x, y = 3, 2\n",
        "z = f(x)\n",
        "print(f'x = {x}, y = {y}, z = {z}')"
      ],
      "execution_count": null,
      "outputs": [
        {
          "output_type": "stream",
          "name": "stdout",
          "text": [
            "x = 4\n",
            "x = 3, y = 2, z = 4\n"
          ]
        }
      ]
    },
    {
      "cell_type": "markdown",
      "metadata": {
        "id": "edY7FqjIikzm"
      },
      "source": [
        "### ドキュメンテーション\n",
        "* Pythonのコードのなかで、\"\"\"で囲まれた部分は、ドキュメンテーション文字列と呼ばれる\n",
        " * 例えば関数の仕様を説明するために用いる。\n",
        " * 組み込み関数helpでドキュメンテーション文字列にアクセスできる。"
      ]
    },
    {
      "cell_type": "code",
      "metadata": {
        "id": "IhAT4dm2xhOZ"
      },
      "source": [
        "def f(x):\n",
        "    \"\"\"xの値を表示する\"\"\"\n",
        "    print(x)\n",
        "\n",
        "help(f)"
      ],
      "execution_count": null,
      "outputs": []
    },
    {
      "cell_type": "markdown",
      "metadata": {
        "id": "DGok5X8CirjU"
      },
      "source": [
        "### 再帰呼出し"
      ]
    },
    {
      "cell_type": "code",
      "metadata": {
        "id": "zevrEgm6xjcx"
      },
      "source": [
        "def fact(n):\n",
        "    if n == 1:\n",
        "        return n\n",
        "    else:\n",
        "        return n * fact(n - 1)"
      ],
      "execution_count": null,
      "outputs": []
    },
    {
      "cell_type": "code",
      "metadata": {
        "id": "C0bOQ8vLxlgZ"
      },
      "source": [
        "print(fact(8))"
      ],
      "execution_count": null,
      "outputs": []
    },
    {
      "cell_type": "code",
      "metadata": {
        "id": "yW5Jv_qaxm6p"
      },
      "source": [
        "def fib(n):\n",
        "    if n == 0 or n == 1:\n",
        "        return 1\n",
        "    else:\n",
        "        return fib(n - 1) + fib(n - 2)"
      ],
      "execution_count": null,
      "outputs": []
    },
    {
      "cell_type": "code",
      "metadata": {
        "id": "KkCel07OxocZ"
      },
      "source": [
        "for i in range(11):\n",
        "    print(fib(i), end=',')\n",
        "print()"
      ],
      "execution_count": null,
      "outputs": []
    },
    {
      "cell_type": "markdown",
      "metadata": {
        "id": "P6lOTgljiweU"
      },
      "source": [
        "## 補足：print関数のend仮引数"
      ]
    },
    {
      "cell_type": "code",
      "metadata": {
        "id": "z0bjRT2JxqAY"
      },
      "source": [
        "print('a', end='')\n",
        "print('b', end=' ')\n",
        "print('c', end='---')\n",
        "print('d')\n",
        "print('e')"
      ],
      "execution_count": null,
      "outputs": []
    },
    {
      "cell_type": "markdown",
      "metadata": {
        "id": "jmIEmh7fi16s"
      },
      "source": [
        "## ファイルの読み書き"
      ]
    },
    {
      "cell_type": "code",
      "source": [
        "print('aaa', 'bbb')"
      ],
      "metadata": {
        "colab": {
          "base_uri": "https://localhost:8080/"
        },
        "id": "m2XYyEGCraP4",
        "outputId": "80fc940e-3620-4012-f053-545763fc4d44"
      },
      "execution_count": null,
      "outputs": [
        {
          "output_type": "stream",
          "name": "stdout",
          "text": [
            "aaa bbb\n"
          ]
        }
      ]
    },
    {
      "cell_type": "code",
      "source": [
        "print('aaa\\n', 'bbb\\tccc')"
      ],
      "metadata": {
        "colab": {
          "base_uri": "https://localhost:8080/"
        },
        "id": "imZfdJPxrgN6",
        "outputId": "d2fcbb0c-045f-48c8-ac48-db1ab2b5d3e4"
      },
      "execution_count": null,
      "outputs": [
        {
          "output_type": "stream",
          "name": "stdout",
          "text": [
            "aaa\n",
            " bbb\tccc\n"
          ]
        }
      ]
    },
    {
      "cell_type": "code",
      "metadata": {
        "id": "ZRvKC4Ztxrxh",
        "colab": {
          "base_uri": "https://localhost:8080/"
        },
        "outputId": "b54db3ca-3992-44e7-bec9-1d1ef9e0bbbf"
      },
      "source": [
        "f = open('text.txt', 'w') # 'w'はwrite\n",
        "for i in range(5):\n",
        "    line = input('Enter string: ')\n",
        "    f.write(line + '\\n')\n",
        "f.close()"
      ],
      "execution_count": null,
      "outputs": [
        {
          "name": "stdout",
          "output_type": "stream",
          "text": [
            "Enter string: apple\n",
            "Enter string: apple\n",
            "Enter string: apple\n",
            "Enter string: banana\n",
            "Enter string: orange\n"
          ]
        }
      ]
    },
    {
      "cell_type": "code",
      "source": [
        "print('aaa')\n",
        "print('bbb')"
      ],
      "metadata": {
        "colab": {
          "base_uri": "https://localhost:8080/"
        },
        "id": "9go8-m7Rujfx",
        "outputId": "c1ad395b-b095-4e99-c557-0104f0c49056"
      },
      "execution_count": null,
      "outputs": [
        {
          "output_type": "stream",
          "name": "stdout",
          "text": [
            "aaa\n",
            "bbb\n"
          ]
        }
      ]
    },
    {
      "cell_type": "code",
      "metadata": {
        "id": "W740VjRzxwkA",
        "colab": {
          "base_uri": "https://localhost:8080/"
        },
        "outputId": "129c161b-511a-4b86-b4d5-0f04dcc8bf35"
      },
      "source": [
        "ff = open('text.txt', 'r') # 'r'はread\n",
        "for line in ff:\n",
        "    print(line)\n",
        "ff.close()"
      ],
      "execution_count": null,
      "outputs": [
        {
          "output_type": "stream",
          "name": "stdout",
          "text": [
            "apple\n",
            "\n",
            "apple\n",
            "\n",
            "apple\n",
            "\n",
            "banana\n",
            "\n",
            "orange\n",
            "\n"
          ]
        }
      ]
    },
    {
      "cell_type": "code",
      "metadata": {
        "id": "USDr1CWJx0mH",
        "colab": {
          "base_uri": "https://localhost:8080/"
        },
        "outputId": "a97ac855-69ca-4b1f-dc94-3e9fa95bdbba"
      },
      "source": [
        "f = open('text.txt', 'r')\n",
        "for line in f:\n",
        "    line = line.strip()\n",
        "    print(line)\n",
        "f.close()"
      ],
      "execution_count": null,
      "outputs": [
        {
          "output_type": "stream",
          "name": "stdout",
          "text": [
            "apple\n",
            "apple\n",
            "apple\n",
            "banana\n",
            "orange\n"
          ]
        }
      ]
    },
    {
      "cell_type": "code",
      "source": [
        "f = open('example01.txt', 'r')\n",
        "for line in f:\n",
        "    line = line.strip()\n",
        "    print(line)\n",
        "f.close()"
      ],
      "metadata": {
        "colab": {
          "base_uri": "https://localhost:8080/"
        },
        "id": "ttR3FZzQwOXb",
        "outputId": "fa585d28-7dc5-418a-da38-e0b563f103c8"
      },
      "execution_count": null,
      "outputs": [
        {
          "output_type": "stream",
          "name": "stdout",
          "text": [
            "This is the decidedly low-rent campaign headquarters in Bang Bon for Move Forward, the most radical party contesting this month's general election in Thailand.\n",
            "\n",
            "Pacing among them is the parliamentary candidate, Rukchanok \"Ice\" Srinork, a 28-year-old woman brimming with energy, who constantly flicks through her social media pages. Ice's team have bought cheap bicycles, and for weeks now they have been using them, in brutally hot weather, to reach out to residents in the smallest alleys of Bang Bon.\n"
          ]
        }
      ]
    },
    {
      "cell_type": "markdown",
      "metadata": {
        "id": "F2Etjjhvi8UD"
      },
      "source": [
        "## Pythonの4つの構造型"
      ]
    },
    {
      "cell_type": "markdown",
      "metadata": {
        "id": "bL4yYdJTi9ej"
      },
      "source": [
        "* タプル\n",
        " * 文字列の一般化。不変な要素の列。\n",
        "* range\n",
        " * タプルと同じく不変な要素の列。ただし整数の列。（Python 2にはなかった。）\n",
        "* リスト\n",
        " * 可変なタプル\n",
        "* 辞書\n",
        " * 連想配列（添え字が数字でない配列）"
      ]
    },
    {
      "cell_type": "markdown",
      "metadata": {
        "id": "S1dpd3KIjE3k"
      },
      "source": [
        "### タプル(tuple)"
      ]
    },
    {
      "cell_type": "code",
      "metadata": {
        "id": "c-hX3kGax4uA",
        "colab": {
          "base_uri": "https://localhost:8080/"
        },
        "outputId": "910dc827-a21d-453c-c563-ae42e2157846"
      },
      "source": [
        "t1 = ()\n",
        "t2 = ('one', 2, 'three', 4)\n",
        "print(t1)\n",
        "print(t2)"
      ],
      "execution_count": 1,
      "outputs": [
        {
          "output_type": "stream",
          "name": "stdout",
          "text": [
            "()\n",
            "('one', 2, 'three', 4)\n"
          ]
        }
      ]
    },
    {
      "cell_type": "code",
      "metadata": {
        "id": "0_74orbnx6oX",
        "colab": {
          "base_uri": "https://localhost:8080/"
        },
        "outputId": "16fe2802-eb8a-4f04-80ea-7ac695f7b4ba"
      },
      "source": [
        "t3 = (\"abdcdsw\",)\n",
        "print(t3)"
      ],
      "execution_count": 8,
      "outputs": [
        {
          "output_type": "stream",
          "name": "stdout",
          "text": [
            "('abdcdsw',)\n"
          ]
        }
      ]
    },
    {
      "cell_type": "code",
      "metadata": {
        "id": "3-9XSOyTx7_X",
        "colab": {
          "base_uri": "https://localhost:8080/"
        },
        "outputId": "b7499ac3-e4fe-414c-86e5-2134b4f521c8"
      },
      "source": [
        "t = tuple()\n",
        "print(t)"
      ],
      "execution_count": 9,
      "outputs": [
        {
          "output_type": "stream",
          "name": "stdout",
          "text": [
            "()\n"
          ]
        }
      ]
    },
    {
      "cell_type": "code",
      "metadata": {
        "id": "ExiSxRlpx-Cn",
        "colab": {
          "base_uri": "https://localhost:8080/"
        },
        "outputId": "21417a08-e187-45a9-ed6b-54e2ff19b810"
      },
      "source": [
        "t1 = ('one', 2, 'three', 4)\n",
        "t2 = (0, t1, 'five')\n",
        "print(t2)\n",
        "print(t1 + t2)\n",
        "print((t1 + t2)[2])\n",
        "print((t1 + t2)[1:4])"
      ],
      "execution_count": 10,
      "outputs": [
        {
          "output_type": "stream",
          "name": "stdout",
          "text": [
            "(0, ('one', 2, 'three', 4), 'five')\n",
            "('one', 2, 'three', 4, 0, ('one', 2, 'three', 4), 'five')\n",
            "three\n",
            "(2, 'three', 4)\n"
          ]
        }
      ]
    },
    {
      "cell_type": "code",
      "metadata": {
        "id": "pWw7sE99x_uv",
        "colab": {
          "base_uri": "https://localhost:8080/"
        },
        "outputId": "fd981b69-8d04-49dd-8056-ccd3bbc2421c"
      },
      "source": [
        "t1 = (2, 4, 6, 8, 10, 12, 14, 16, 18)\n",
        "t2 = (3, 6, 9, 12, 15, 18)\n",
        "for e in t1:\n",
        "    if e in t2: # 入っていればTrue\n",
        "        print(e)"
      ],
      "execution_count": 11,
      "outputs": [
        {
          "output_type": "stream",
          "name": "stdout",
          "text": [
            "6\n",
            "12\n",
            "18\n"
          ]
        }
      ]
    },
    {
      "cell_type": "markdown",
      "metadata": {
        "id": "_HWo0Pr1jIMQ"
      },
      "source": [
        "### 範囲(range)"
      ]
    },
    {
      "cell_type": "code",
      "metadata": {
        "id": "JDvpZMKOyBau"
      },
      "source": [
        "for i in range(21, 100, 7):\n",
        "    print(i)\n",
        "print()\n",
        "for i in range(100, 21, -7):\n",
        "    print(i)"
      ],
      "execution_count": null,
      "outputs": []
    },
    {
      "cell_type": "markdown",
      "metadata": {
        "id": "B_4pwwM_jK2O"
      },
      "source": [
        "### リスト(list)"
      ]
    },
    {
      "cell_type": "code",
      "metadata": {
        "id": "Z9sTk_9zyC9W"
      },
      "source": [
        "l1 = []\n",
        "l2 = ['one', 2, 'three', 4]\n",
        "print(l1)\n",
        "print(l2)"
      ],
      "execution_count": null,
      "outputs": []
    },
    {
      "cell_type": "code",
      "metadata": {
        "id": "37ylEo32yGR-",
        "colab": {
          "base_uri": "https://localhost:8080/"
        },
        "outputId": "31817c4f-0194-4798-d940-8b9b3544a4df"
      },
      "source": [
        "l3 = [123]\n",
        "print(l3)"
      ],
      "execution_count": 14,
      "outputs": [
        {
          "output_type": "stream",
          "name": "stdout",
          "text": [
            "[123]\n"
          ]
        }
      ]
    },
    {
      "cell_type": "code",
      "metadata": {
        "id": "OJoiRfkDyHqm",
        "colab": {
          "base_uri": "https://localhost:8080/"
        },
        "outputId": "7223b25c-efe9-4e3f-d221-ea37dfd19a16"
      },
      "source": [
        "l = list()\n",
        "print(l)"
      ],
      "execution_count": 15,
      "outputs": [
        {
          "output_type": "stream",
          "name": "stdout",
          "text": [
            "[]\n"
          ]
        }
      ]
    },
    {
      "cell_type": "code",
      "metadata": {
        "id": "tDicZI6lyJk9",
        "colab": {
          "base_uri": "https://localhost:8080/"
        },
        "outputId": "d52fbf05-f5e4-490a-ac25-9e0c08d7a7ff"
      },
      "source": [
        "l1 = [2, 4, 6, 8, 10, 12, 14, 16, 18]\n",
        "l2 = [3, 6, 9, 12, 15, 18]\n",
        "for e in l1:\n",
        "    if e in l2:\n",
        "        print(e)"
      ],
      "execution_count": 16,
      "outputs": [
        {
          "output_type": "stream",
          "name": "stdout",
          "text": [
            "6\n",
            "12\n",
            "18\n"
          ]
        }
      ]
    },
    {
      "cell_type": "markdown",
      "metadata": {
        "id": "SU4HkJ4ljkRJ"
      },
      "source": [
        "* 組み込み関数idを使うとオブジェクトの固有識別子が得られる\n"
      ]
    },
    {
      "cell_type": "code",
      "metadata": {
        "id": "KBPRTwp1yLLm"
      },
      "source": [
        "v = ['onion', 'carrot']\n",
        "f = ['apple', 'orange', 'banana']\n",
        "l1 = [v, f]\n",
        "l2 = [['onion', 'carrot'], ['apple', 'orange', 'banana']]\n",
        "print(l1 == l2)\n",
        "print(id(l1) == id(l2))"
      ],
      "execution_count": null,
      "outputs": []
    },
    {
      "cell_type": "markdown",
      "metadata": {
        "id": "6gqluWymjoOS"
      },
      "source": [
        "### リストのメソッド"
      ]
    },
    {
      "cell_type": "code",
      "metadata": {
        "id": "I8xZGN1myMeW",
        "colab": {
          "base_uri": "https://localhost:8080/"
        },
        "outputId": "e772a532-c432-4228-9150-6cb6e2361213"
      },
      "source": [
        "l1 = [1,2,3]\n",
        "l2 = [4,5,6]\n",
        "l2.append(7)\n",
        "print(l2)\n",
        "l1.extend(l2)\n",
        "print(l1)\n",
        "l1.append(l2)\n",
        "print(l1)"
      ],
      "execution_count": 17,
      "outputs": [
        {
          "output_type": "stream",
          "name": "stdout",
          "text": [
            "[4, 5, 6, 7]\n",
            "[1, 2, 3, 4, 5, 6, 7]\n",
            "[1, 2, 3, 4, 5, 6, 7, [4, 5, 6, 7]]\n"
          ]
        }
      ]
    },
    {
      "cell_type": "code",
      "metadata": {
        "id": "coCMpQeEyN7m"
      },
      "source": [
        "l = [1,2,3,2,1,2,3,4,3,2,3,4,5]\n",
        "print(l.count(1))\n",
        "print(l.count(3))\n",
        "print(l.index(4))\n",
        "print(l.index(10))"
      ],
      "execution_count": null,
      "outputs": []
    },
    {
      "cell_type": "code",
      "metadata": {
        "id": "xuhaPN3OyPrm"
      },
      "source": [
        "l = [1,2,3,2,1,2,3,4,3,2,3,4,5]\n",
        "l.sort()\n",
        "print(l)\n",
        "l.reverse()\n",
        "print(l)"
      ],
      "execution_count": null,
      "outputs": []
    },
    {
      "cell_type": "code",
      "metadata": {
        "id": "Em66HPnjyV6F"
      },
      "source": [
        "l = [3, 6, 9, 12, 15, 18]\n",
        "l.insert(3, 10)\n",
        "print(l)\n",
        "l.remove(10)\n",
        "print(l)\n",
        "l.pop(4)\n",
        "print(l)"
      ],
      "execution_count": null,
      "outputs": []
    },
    {
      "cell_type": "markdown",
      "metadata": {
        "id": "SKTjVQqTjtIX"
      },
      "source": [
        "### リスト内包(list comprehension)\n",
        "* 順序型のそれぞれの値に対し、特定の処理をおこない、その結果を要素として含むリストを作り出す方法\n"
      ]
    },
    {
      "cell_type": "code",
      "metadata": {
        "id": "QgpN02aD0Sp0"
      },
      "source": [
        "l = [x**3 for x in range(2, 10, 3)]\n",
        "print(l)\n",
        "l = [x for x in range(-10, 10) if x%2 == 0]\n",
        "print(l)\n",
        "words1 = ['apple', 'ball', 'banana', 'orange']\n",
        "words2 = [x for x in words1 if x.count('a') == 1]\n",
        "print(words2)\n",
        "words3 = [x for x in words1 for c in x if c == 'a']\n",
        "print(words3) #出力がなぜそうなるか説明してみよう"
      ],
      "execution_count": null,
      "outputs": []
    },
    {
      "cell_type": "code",
      "metadata": {
        "id": "XIzHrPTg0UdL",
        "colab": {
          "base_uri": "https://localhost:8080/"
        },
        "outputId": "07954803-5b84-4903-ead8-3108e3923b05"
      },
      "source": [
        "numbers = {'one':1, 'two':2, 'four':3, 'seven':7}\n",
        "print(numbers)\n",
        "print(numbers['four'])\n",
        "numbers['seven'] = 70 #値を上書き\n",
        "print(numbers['seven'])\n",
        "print(numbers)\n",
        "numbers['six'] = 6 #新たに追加\n",
        "print(numbers['six'])\n",
        "print(numbers)\n",
        "print('six' in numbers) #キーがあるかどうか調べる"
      ],
      "execution_count": 20,
      "outputs": [
        {
          "output_type": "stream",
          "name": "stdout",
          "text": [
            "{'one': 1, 'two': 2, 'four': 3, 'seven': 7}\n",
            "3\n",
            "70\n",
            "{'one': 1, 'two': 2, 'four': 3, 'seven': 70}\n",
            "6\n",
            "{'one': 1, 'two': 2, 'four': 3, 'seven': 70, 'six': 6}\n",
            "True\n"
          ]
        }
      ]
    },
    {
      "cell_type": "code",
      "source": [
        "if 'six' in numbers:\n",
        "  print(\"OK\")"
      ],
      "metadata": {
        "colab": {
          "base_uri": "https://localhost:8080/"
        },
        "id": "X0etogLelsWc",
        "outputId": "09fb28b9-db0a-4825-b8c3-0133d1a2085e"
      },
      "execution_count": 26,
      "outputs": [
        {
          "output_type": "stream",
          "name": "stdout",
          "text": [
            "OK\n"
          ]
        }
      ]
    },
    {
      "cell_type": "code",
      "source": [
        "a = 3\n",
        "b = 3\n",
        "if a == b:\n",
        "  print(\"OK\")"
      ],
      "metadata": {
        "colab": {
          "base_uri": "https://localhost:8080/"
        },
        "id": "rH1KoGJKmA3c",
        "outputId": "401c11ab-1962-4428-e5be-e54fe7355856"
      },
      "execution_count": 28,
      "outputs": [
        {
          "output_type": "stream",
          "name": "stdout",
          "text": [
            "OK\n"
          ]
        }
      ]
    },
    {
      "cell_type": "markdown",
      "metadata": {
        "id": "6-LfUYbaj4qa"
      },
      "source": [
        "## 順序型に対する操作のまとめ\n",
        "* `seq[i]`は順序型のi番目の要素（ただし、最初の要素は0番目）\n",
        "* `len(seq)`は順序型の長さ\n",
        "* `seq1 + seq2`は二つの順序型を連結する（範囲型では使用不可）\n",
        "* `n * seq`は`seq`を`n`回繰り返した順序型（範囲型では使用不可）\n",
        "* `seq[start:end]`は順序型のスライス\n",
        "* `e in seq`は`e`が順序型の要素である場合`True`、それ以外`False`\n",
        "* `e not in seq`は`e`が順序型の要素でない場合`True`、それ以外`False`\n",
        "* `for e in seq`は順序型の要素を反復して取り出す\n"
      ]
    },
    {
      "cell_type": "markdown",
      "metadata": {
        "id": "JUtPMEJJkPSc"
      },
      "source": [
        "## 辞書"
      ]
    },
    {
      "cell_type": "code",
      "metadata": {
        "id": "A4QfcvZq0WMb",
        "colab": {
          "base_uri": "https://localhost:8080/"
        },
        "outputId": "65be2eec-2cc1-4801-def3-8a4ce3edf891"
      },
      "source": [
        "d = dict()\n",
        "print(d)"
      ],
      "execution_count": 31,
      "outputs": [
        {
          "output_type": "stream",
          "name": "stdout",
          "text": [
            "{}\n"
          ]
        }
      ]
    },
    {
      "cell_type": "code",
      "metadata": {
        "id": "FlRwronn0Yeb",
        "colab": {
          "base_uri": "https://localhost:8080/"
        },
        "outputId": "2a68da5f-05cb-49a0-c82f-0dffae2480a5"
      },
      "source": [
        "numbers = {'three':3 , 'one':1 , 'nine':9, 'four':4}\n",
        "for k in numbers:\n",
        "    print(k, numbers[k])"
      ],
      "execution_count": 32,
      "outputs": [
        {
          "output_type": "stream",
          "name": "stdout",
          "text": [
            "three 3\n",
            "one 1\n",
            "nine 9\n",
            "four 4\n"
          ]
        }
      ]
    },
    {
      "cell_type": "markdown",
      "metadata": {
        "id": "t7Hq09pkkSh4"
      },
      "source": [
        "### 辞書のitemsメソッド"
      ]
    },
    {
      "cell_type": "code",
      "metadata": {
        "id": "WQ0D05aH0Z2b",
        "colab": {
          "base_uri": "https://localhost:8080/"
        },
        "outputId": "b7dd38b1-180b-437e-c19a-aac93ebeb0a0"
      },
      "source": [
        "numbers = {'three':3 , 'one':1 , 'nine':9, 'four':4}\n",
        "for item in numbers.items():\n",
        "    print(item)"
      ],
      "execution_count": 33,
      "outputs": [
        {
          "output_type": "stream",
          "name": "stdout",
          "text": [
            "('three', 3)\n",
            "('one', 1)\n",
            "('nine', 9)\n",
            "('four', 4)\n"
          ]
        }
      ]
    },
    {
      "cell_type": "markdown",
      "metadata": {
        "id": "qLM1toH4kgbq"
      },
      "source": [
        "### sorted組み込み関数"
      ]
    },
    {
      "cell_type": "code",
      "source": [
        "t = (4, -2, 3, 10, -8, 1)\n",
        "print(sorted(t))\n",
        "print(type(sorted(t)))\n",
        "print(t)\n",
        "sorted_t = tuple(sorted(t))\n",
        "print(sorted_t)"
      ],
      "metadata": {
        "colab": {
          "base_uri": "https://localhost:8080/"
        },
        "id": "q6QiJu_pnOU2",
        "outputId": "9dfa2726-1dba-486f-deef-5e11ef364750"
      },
      "execution_count": 36,
      "outputs": [
        {
          "output_type": "stream",
          "name": "stdout",
          "text": [
            "[-8, -2, 1, 3, 4, 10]\n",
            "<class 'list'>\n",
            "(4, -2, 3, 10, -8, 1)\n",
            "(-8, -2, 1, 3, 4, 10)\n"
          ]
        }
      ]
    },
    {
      "cell_type": "code",
      "metadata": {
        "id": "DPXyEVIw0fdq",
        "colab": {
          "base_uri": "https://localhost:8080/"
        },
        "outputId": "cbd8a1a8-2c72-4b61-b446-852e0a736aa0"
      },
      "source": [
        "l = [1, -2, 8, 3, 23, 14]\n",
        "print(sorted(l))\n",
        "print(type(sorted(l)))\n",
        "print(l)\n",
        "sorted_l = sorted(l)\n",
        "print(sorted_l)"
      ],
      "execution_count": 38,
      "outputs": [
        {
          "output_type": "stream",
          "name": "stdout",
          "text": [
            "[-2, 1, 3, 8, 14, 23]\n",
            "<class 'list'>\n",
            "[1, -2, 8, 3, 23, 14]\n",
            "[-2, 1, 3, 8, 14, 23]\n"
          ]
        }
      ]
    },
    {
      "cell_type": "markdown",
      "metadata": {
        "id": "nw2hjVE4kfPW"
      },
      "source": [
        "### 辞書の要素をキーでソートする"
      ]
    },
    {
      "cell_type": "code",
      "source": [
        "numbers = {'three':3 , 'one':1 , 'nine':9, 'four':4}\n",
        "print(sorted(numbers))\n",
        "for k in sorted(numbers):\n",
        "  print(k, numbers[k])"
      ],
      "metadata": {
        "colab": {
          "base_uri": "https://localhost:8080/"
        },
        "id": "cw8t5X2QoCuw",
        "outputId": "6fe4f8fe-4162-408c-fdca-07b7280cb37a"
      },
      "execution_count": 40,
      "outputs": [
        {
          "output_type": "stream",
          "name": "stdout",
          "text": [
            "['four', 'nine', 'one', 'three']\n",
            "four 4\n",
            "nine 9\n",
            "one 1\n",
            "three 3\n"
          ]
        }
      ]
    },
    {
      "cell_type": "code",
      "metadata": {
        "id": "LUSe_4wa0g4K",
        "colab": {
          "base_uri": "https://localhost:8080/"
        },
        "outputId": "af9c7ad0-105b-42eb-8999-aabf1592eae4"
      },
      "source": [
        "numbers = {'three':3 , 'one':1 , 'nine':9, 'four':4}\n",
        "for item in sorted(numbers.items()):\n",
        "    print(item)"
      ],
      "execution_count": 41,
      "outputs": [
        {
          "output_type": "stream",
          "name": "stdout",
          "text": [
            "('four', 4)\n",
            "('nine', 9)\n",
            "('one', 1)\n",
            "('three', 3)\n"
          ]
        }
      ]
    },
    {
      "cell_type": "markdown",
      "metadata": {
        "id": "ddI1hZ21kjo-"
      },
      "source": [
        "### 辞書の要素を値でソートする"
      ]
    },
    {
      "cell_type": "code",
      "metadata": {
        "id": "PrDVPSKq0idi",
        "colab": {
          "base_uri": "https://localhost:8080/"
        },
        "outputId": "6db5407a-2930-4508-e67d-bbde14611120"
      },
      "source": [
        "numbers = {'three':3 , 'one':1 , 'nine':9, 'four':4}\n",
        "for item in sorted(numbers.items(), key=lambda x: x[1]):\n",
        "    print(item)"
      ],
      "execution_count": 42,
      "outputs": [
        {
          "output_type": "stream",
          "name": "stdout",
          "text": [
            "('one', 1)\n",
            "('three', 3)\n",
            "('four', 4)\n",
            "('nine', 9)\n"
          ]
        }
      ]
    },
    {
      "cell_type": "markdown",
      "metadata": {
        "id": "uwrwGkk9kuMR"
      },
      "source": [
        "### getメソッド"
      ]
    },
    {
      "cell_type": "code",
      "source": [
        "numbers = {'three':3 , 'one':1 , 'nine':9, 'four':4}\n",
        "print(numbers.get('zero', 100))"
      ],
      "metadata": {
        "colab": {
          "base_uri": "https://localhost:8080/"
        },
        "id": "HJOxm4I6peCQ",
        "outputId": "8ab54d31-ed5b-4b01-c22f-47099c7c856a"
      },
      "execution_count": 45,
      "outputs": [
        {
          "output_type": "stream",
          "name": "stdout",
          "text": [
            "100\n"
          ]
        }
      ]
    },
    {
      "cell_type": "code",
      "metadata": {
        "id": "vtfT1d650qBy",
        "colab": {
          "base_uri": "https://localhost:8080/"
        },
        "outputId": "98929496-1c8e-4e0d-bb0a-d603b6d22e07"
      },
      "source": [
        "freq = dict() #空の辞書\n",
        "l = ['a', 'b', 'a', 'a', 'c', 'b', 'c']\n",
        "for e in l:\n",
        "    freq[e] = freq.get(e, 0) + 1 #右辺がfreq[e] + 1だとエラー\n",
        "print(freq)"
      ],
      "execution_count": 46,
      "outputs": [
        {
          "output_type": "stream",
          "name": "stdout",
          "text": [
            "{'a': 3, 'b': 2, 'c': 2}\n"
          ]
        }
      ]
    },
    {
      "cell_type": "code",
      "source": [
        "freq = dict() #空の辞書\n",
        "l = ['apple', 'blue', 'apple', 'ace', 'cup', 'blue', 'cup', 'cap', 'ace', 'blue']\n",
        "for e in l:\n",
        "    freq[e] = freq.get(e, 0) + 1 #右辺がfreq[e] + 1だとエラー\n",
        "print(freq)"
      ],
      "metadata": {
        "colab": {
          "base_uri": "https://localhost:8080/"
        },
        "id": "ov4IkE1BqtZT",
        "outputId": "45eeaffb-4e19-4a14-f04f-a2f841aba028"
      },
      "execution_count": 47,
      "outputs": [
        {
          "output_type": "stream",
          "name": "stdout",
          "text": [
            "{'apple': 2, 'blue': 3, 'ace': 2, 'cup': 2, 'cap': 1}\n"
          ]
        }
      ]
    },
    {
      "cell_type": "code",
      "source": [
        "freq = dict() #空の辞書\n",
        "l = ['apple', 'blue', 'apple', 'ace', 'cup', 'blue', 'cup', 'cap', 'ace', 'blue']\n",
        "for e in l:\n",
        "  if e in freq:\n",
        "    freq[e] += 1\n",
        "  else:\n",
        "    freq[e] = 1\n",
        "print(freq)"
      ],
      "metadata": {
        "colab": {
          "base_uri": "https://localhost:8080/"
        },
        "id": "gJ0YuU1yravg",
        "outputId": "acee2837-7145-44bc-a7a4-90219c95d1a6"
      },
      "execution_count": 48,
      "outputs": [
        {
          "output_type": "stream",
          "name": "stdout",
          "text": [
            "{'apple': 2, 'blue': 3, 'ace': 2, 'cup': 2, 'cap': 1}\n"
          ]
        }
      ]
    },
    {
      "cell_type": "markdown",
      "metadata": {
        "id": "TkDxUIJAkmRG"
      },
      "source": [
        "## 補足：予約語lambda"
      ]
    },
    {
      "cell_type": "code",
      "metadata": {
        "id": "I9h5cmSP0kEq"
      },
      "source": [
        "def applyFunc(x, func):\n",
        "    return func(x)\n",
        "\n",
        "print(applyFunc(3, lambda x: x**2))"
      ],
      "execution_count": null,
      "outputs": []
    },
    {
      "cell_type": "markdown",
      "metadata": {
        "id": "4t8eT3Jikoe1"
      },
      "source": [
        "## 補足：高階関数map"
      ]
    },
    {
      "cell_type": "code",
      "metadata": {
        "id": "6hOtwdtm0lfy"
      },
      "source": [
        "ans = map(abs, range(-10, 11, 2))\n",
        "for e in ans:\n",
        "    print(e, end=' ')\n",
        "print()"
      ],
      "execution_count": null,
      "outputs": []
    },
    {
      "cell_type": "code",
      "metadata": {
        "id": "ujloBBOR0nNi"
      },
      "source": [
        "for e in map(lambda x: x//2, range(-10, 11, 2)):\n",
        "    print(e, end=' ')\n",
        "print()"
      ],
      "execution_count": null,
      "outputs": []
    },
    {
      "cell_type": "markdown",
      "metadata": {
        "id": "QjUILhrRkrsq"
      },
      "source": [
        "## 補足：文字列のsplitメソッド"
      ]
    },
    {
      "cell_type": "code",
      "source": [
        "text = 'This is a pen.'\n",
        "print(text.split())"
      ],
      "metadata": {
        "colab": {
          "base_uri": "https://localhost:8080/"
        },
        "id": "A2TFTOA5t7UH",
        "outputId": "7ae99c50-f0d1-45e7-e588-4580787486a2"
      },
      "execution_count": 49,
      "outputs": [
        {
          "output_type": "stream",
          "name": "stdout",
          "text": [
            "['This', 'is', 'a', 'pen.']\n"
          ]
        }
      ]
    },
    {
      "cell_type": "code",
      "metadata": {
        "id": "sqdfnVy30oVi",
        "colab": {
          "base_uri": "https://localhost:8080/"
        },
        "outputId": "5030617e-7eaa-4d26-f012-41236b5a8a83"
      },
      "source": [
        "text = 'Donald Trump has his sights set on Amazon. He is reportedly “obsessed” with the internet commerce giant, and as is his wont, spent Thursday morning tweeting about it. And it’s not because he loves online shopping.'\n",
        "word_seq = text.split()\n",
        "for word in word_seq:\n",
        "    print(word)"
      ],
      "execution_count": 50,
      "outputs": [
        {
          "output_type": "stream",
          "name": "stdout",
          "text": [
            "Donald\n",
            "Trump\n",
            "has\n",
            "his\n",
            "sights\n",
            "set\n",
            "on\n",
            "Amazon.\n",
            "He\n",
            "is\n",
            "reportedly\n",
            "“obsessed”\n",
            "with\n",
            "the\n",
            "internet\n",
            "commerce\n",
            "giant,\n",
            "and\n",
            "as\n",
            "is\n",
            "his\n",
            "wont,\n",
            "spent\n",
            "Thursday\n",
            "morning\n",
            "tweeting\n",
            "about\n",
            "it.\n",
            "And\n",
            "it’s\n",
            "not\n",
            "because\n",
            "he\n",
            "loves\n",
            "online\n",
            "shopping.\n"
          ]
        }
      ]
    },
    {
      "cell_type": "markdown",
      "metadata": {
        "id": "qy5aq0R5k-ny"
      },
      "source": [
        "## クラスの定義"
      ]
    },
    {
      "cell_type": "code",
      "metadata": {
        "id": "8yfVnKTl0rsI"
      },
      "source": [
        "class Greeter(object):\n",
        "\n",
        "    def __init__(self, name):\n",
        "        self.name = name\n",
        "\n",
        "    def greet(self, loud=False):\n",
        "        if loud:\n",
        "            print(f'HELLO, {self.name.upper()}!')\n",
        "        else:\n",
        "            print(f'Hello, {self.name}')"
      ],
      "execution_count": null,
      "outputs": []
    },
    {
      "cell_type": "markdown",
      "metadata": {
        "id": "Jf5q1h_QlBvH"
      },
      "source": [
        "### インスタンスの作成"
      ]
    },
    {
      "cell_type": "code",
      "metadata": {
        "id": "lYu7hf890tJh"
      },
      "source": [
        "g = Greeter('Fred')"
      ],
      "execution_count": null,
      "outputs": []
    },
    {
      "cell_type": "markdown",
      "metadata": {
        "id": "t1Fsx0BalEH3"
      },
      "source": [
        "### メソッドの呼出し"
      ]
    },
    {
      "cell_type": "code",
      "metadata": {
        "id": "vdstALIZ0uxa"
      },
      "source": [
        "g.greet()\n",
        "g.greet(loud=True)"
      ],
      "execution_count": null,
      "outputs": []
    },
    {
      "cell_type": "markdown",
      "metadata": {
        "id": "dC1Pn6N101tN"
      },
      "source": [
        "## 課題４\n",
        "* 適当な英文ニュース記事から本文だけをコピー・アンド・ペーストし、テキストファイルnews.txtを作っておく\n",
        "* このテキストファイルnews.txtをopenし、読み込み、以下の処理をするコードをPythonで書く\n",
        " * 記事にどの単語が何回出現するかを、単語の出現回数の降順でソートして表示する。"
      ]
    },
    {
      "cell_type": "code",
      "metadata": {
        "id": "5rtXSivo0v-B",
        "colab": {
          "base_uri": "https://localhost:8080/"
        },
        "outputId": "116560b1-74da-42a9-8901-26f9e6aad9d0"
      },
      "source": [
        "f = open('news.txt')\n",
        "for line in f:\n",
        "  print(line.split())\n",
        "f.close()"
      ],
      "execution_count": 52,
      "outputs": [
        {
          "output_type": "stream",
          "name": "stdout",
          "text": [
            "['In', 'a', 'tweet,', 'he', 'said', 'he', 'would', 'meet', 'his', '\"friend\"', 'Mr', 'Sunak', 'to', 'hold', '\"substantive', 'negotiations\".']\n",
            "[]\n",
            "['The', 'UK', 'announced', 'on', 'Thursday', 'that', 'it', 'would', 'supply', 'Ukraine', 'with', 'the', 'long-range', 'missiles', 'it', 'had', 'requested', 'to', 'fight', 'the', 'Russian', 'invasion.']\n",
            "[]\n",
            "['Mr', 'Zelensky', 'has', 'been', 'meeting', 'Western', 'leaders', 'in', 'recent', 'days', 'seeking', 'to', 'bolster', 'support', 'for', 'Ukraine.']\n",
            "[]\n",
            "['At', 'the', 'meeting,', 'Mr', 'Sunak', 'said', 'the', 'pair', 'would', 'be', '\"discussing', 'what', 'more', 'we', 'can', 'do', 'to', 'support\"', 'Mr', 'Zelensky', 'and', 'Ukraine.']\n",
            "[]\n",
            "['The', 'Ukrainian', 'leader', 'is', 'the', 'first', 'foreign', 'dignitary', 'to', 'meet', 'Mr', 'Sunak', 'at', 'Chequers,', 'the', 'prime', \"minister's\", 'official', 'country', 'residence.']\n"
          ]
        }
      ]
    },
    {
      "cell_type": "code",
      "source": [],
      "metadata": {
        "id": "6heIiGdIvXzG"
      },
      "execution_count": null,
      "outputs": []
    }
  ]
}